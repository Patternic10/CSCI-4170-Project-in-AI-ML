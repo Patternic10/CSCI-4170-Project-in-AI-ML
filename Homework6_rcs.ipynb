{
  "cells": [
    {
      "cell_type": "markdown",
      "metadata": {
        "id": "view-in-github",
        "colab_type": "text"
      },
      "source": [
        "<a href=\"https://colab.research.google.com/github/Patternic10/CSCI-4170-Project-in-AI-ML/blob/main/Homework6_rcs.ipynb\" target=\"_parent\"><img src=\"https://colab.research.google.com/assets/colab-badge.svg\" alt=\"Open In Colab\"/></a>"
      ]
    },
    {
      "cell_type": "code",
      "execution_count": null,
      "metadata": {
        "id": "ypkUKxhvVqd4",
        "outputId": "1abfc07f-885e-45df-d54f-463feb997185"
      },
      "outputs": [
        {
          "name": "stderr",
          "output_type": "stream",
          "text": [
            "/home/kazeej/anaconda3/envs/recsys/lib/python3.8/site-packages/tqdm/auto.py:21: TqdmWarning: IProgress not found. Please update jupyter and ipywidgets. See https://ipywidgets.readthedocs.io/en/stable/user_install.html\n",
            "  from .autonotebook import tqdm as notebook_tqdm\n"
          ]
        },
        {
          "name": "stdout",
          "output_type": "stream",
          "text": [
            "Missing values:\n",
            " user_id      0\n",
            "item_id      0\n",
            "rating       0\n",
            "timestamp    0\n",
            "dtype: int64\n",
            "\n",
            "Dataset Info:\n",
            "            user_id        item_id         rating     timestamp\n",
            "count  100000.00000  100000.000000  100000.000000  1.000000e+05\n",
            "mean      462.48475     425.530130       3.529860  8.835289e+08\n",
            "std       266.61442     330.798356       1.125674  5.343856e+06\n",
            "min         1.00000       1.000000       1.000000  8.747247e+08\n",
            "25%       254.00000     175.000000       3.000000  8.794487e+08\n",
            "50%       447.00000     322.000000       4.000000  8.828269e+08\n",
            "75%       682.00000     631.000000       4.000000  8.882600e+08\n",
            "max       943.00000    1682.000000       5.000000  8.932866e+08\n",
            "\n",
            "Number of Users: 943\n",
            "Number of Items: 1682\n"
          ]
        },
        {
          "data": {
            "image/png": "[encoded data removed]",
            "text/plain": [
              "<Figure size 640x480 with 1 Axes>"
            ]
          },
          "metadata": {},
          "output_type": "display_data"
        }
      ],
      "source": [
        "import numpy as np\n",
        "import pandas as pd\n",
        "from scipy.sparse import csr_matrix\n",
        "from sklearn.model_selection import train_test_split\n",
        "from sklearn.metrics import mean_squared_error\n",
        "import matplotlib.pyplot as plt\n",
        "from surprise import SVD, Dataset, Reader, accuracy\n",
        "from surprise.model_selection import train_test_split as surprise_split\n",
        "from implicit.als import AlternatingLeastSquares\n",
        "import implicit\n",
        "\n",
        "# Step 1: Load and Clean Data\n",
        "url = \"https://files.grouplens.org/datasets/movielens/ml-100k/u.data\"\n",
        "columns = ['user_id', 'item_id', 'rating', 'timestamp']\n",
        "data = pd.read_csv(url, sep='\\t', names=columns)\n",
        "\n",
        "# Check for missing values\n",
        "print(\"Missing values:\\n\", data.isnull().sum())\n",
        "# No missing values expected in MovieLens 100k, but drop if any\n",
        "data = data.dropna()\n",
        "\n",
        "# Step 2: Exploratory Data Analysis (EDA)\n",
        "print(\"\\nDataset Info:\")\n",
        "print(data.describe())\n",
        "print(\"\\nNumber of Users:\", data['user_id'].nunique())\n",
        "print(\"Number of Items:\", data['item_id'].nunique())\n",
        "\n",
        "# Rating distribution\n",
        "plt.hist(data['rating'], bins=5, edgecolor='black')\n",
        "plt.title('Rating Distribution')\n",
        "plt.xlabel('Rating')\n",
        "plt.ylabel('Count')\n",
        "plt.show()\n",
        "\n"
      ]
    },
    {
      "cell_type": "code",
      "execution_count": null,
      "metadata": {
        "id": "ZgCuNVM3Vqd7",
        "outputId": "84d9c99f-0d42-4b5d-bbaf-12f9c849d8b9"
      },
      "outputs": [
        {
          "name": "stdout",
          "output_type": "stream",
          "text": [
            "\n",
            "Average ratings per user: 106.04453870625663\n",
            "Average ratings per item: 59.45303210463734\n",
            "\n",
            "User-Item Matrix Shape: (943, 1682)\n",
            "Sparsity: 0.9370\n"
          ]
        }
      ],
      "source": [
        "# User and item activity\n",
        "user_counts = data['user_id'].value_counts()\n",
        "item_counts = data['item_id'].value_counts()\n",
        "print(\"\\nAverage ratings per user:\", user_counts.mean())\n",
        "print(\"Average ratings per item:\", item_counts.mean())\n",
        "\n",
        "# Step 3: Convert to User-Item Matrix\n",
        "user_item_df = data.pivot(index='user_id', columns='item_id', values='rating').fillna(0)\n",
        "user_item_matrix = csr_matrix(user_item_df.values)\n",
        "print(\"\\nUser-Item Matrix Shape:\", user_item_matrix.shape)\n",
        "sparsity = 1 - (data.shape[0] / (user_item_df.shape[0] * user_item_df.shape[1]))\n",
        "print(\"Sparsity:\", f\"{sparsity:.4f}\")\n",
        "\n",
        "# Step 4: Train-Test Split for Manual Evaluation\n",
        "train_data, test_data = train_test_split(data, test_size=0.2, random_state=42)\n",
        "\n"
      ]
    },
    {
      "cell_type": "code",
      "execution_count": null,
      "metadata": {
        "id": "skL6CvzLVqd7",
        "outputId": "1ea7b278-a29f-41fe-9095-c346a36e14d6"
      },
      "outputs": [
        {
          "name": "stdout",
          "output_type": "stream",
          "text": [
            "RMSE: 0.9352\n",
            "\n",
            "SVD RMSE: 0.9352\n",
            "SVD Precision@10: 0.5837\n"
          ]
        }
      ],
      "source": [
        "# Algorithm 1: Matrix Factorization with SVD (using Surprise)\n",
        "reader = Reader(rating_scale=(1, 5))\n",
        "surprise_data = Dataset.load_from_df(data[['user_id', 'item_id', 'rating']], reader)\n",
        "trainset, testset = surprise_split(surprise_data, test_size=0.2, random_state=42)\n",
        "\n",
        "svd = SVD(n_factors=100, n_epochs=20, lr_all=0.005, reg_all=0.02, random_state=42)\n",
        "svd.fit(trainset)\n",
        "svd_predictions = svd.test(testset)\n",
        "svd_rmse = accuracy.rmse(svd_predictions)\n",
        "\n",
        "# Precision@k for SVD\n",
        "def precision_at_k(predictions, k=10, threshold=4.0):\n",
        "    user_est_true = {}\n",
        "    for uid, _, true_r, est, _ in predictions:\n",
        "        if uid not in user_est_true:\n",
        "            user_est_true[uid] = []\n",
        "        user_est_true[uid].append((est, true_r))\n",
        "\n",
        "    precisions = []\n",
        "    for uid, ratings in user_est_true.items():\n",
        "        ratings.sort(key=lambda x: x[0], reverse=True)\n",
        "        top_k = ratings[:k]\n",
        "        n_relevant = sum(1 for est, true in top_k if true >= threshold)\n",
        "        precisions.append(n_relevant / k if k > 0 else 0)\n",
        "    return np.mean(precisions)\n",
        "\n",
        "svd_precision = precision_at_k(svd_predictions, k=10)\n",
        "print(f\"\\nSVD RMSE: {svd_rmse:.4f}\")\n",
        "print(f\"SVD Precision@10: {svd_precision:.4f}\")\n",
        "\n",
        "\n"
      ]
    },
    {
      "cell_type": "code",
      "execution_count": null,
      "metadata": {
        "id": "12yk-yp4Vqd8",
        "outputId": "340e8e31-6730-43d9-b67b-09da9e4f4ece"
      },
      "outputs": [
        {
          "name": "stderr",
          "output_type": "stream",
          "text": [
            "100%|██████████| 20/20 [12:58<00:00, 38.92s/it]\n"
          ]
        },
        {
          "name": "stdout",
          "output_type": "stream",
          "text": [
            "\n",
            "ALS RMSE: 2.7622\n",
            "ALS Precision@10: 0.4835\n",
            "\n",
            "Performance Comparison:\n",
            "SVD - RMSE: 0.9352, Precision@10: 0.5837\n",
            "ALS - RMSE: 2.7622, Precision@10: 0.4835\n"
          ]
        }
      ],
      "source": [
        "# Algorithm 2: Alternating Least Squares (using implicit, CPU-only)\n",
        "# Define full dimensions based on entire dataset\n",
        "n_users = data['user_id'].nunique()  # 943\n",
        "n_items = data['item_id'].nunique()  # 1682\n",
        "\n",
        "# Create sparse training matrix with full dimensions\n",
        "train_users = train_data['user_id'].values - 1\n",
        "train_items = train_data['item_id'].values - 1\n",
        "train_ratings = train_data['rating'].values\n",
        "train_matrix = csr_matrix((train_ratings, (train_users, train_items)), shape=(n_users, n_items))\n",
        "\n",
        "als = AlternatingLeastSquares(factors=100, regularization=0.01, iterations=20, use_gpu=False)\n",
        "als.fit(train_matrix)\n",
        "\n",
        "# Predict ratings for test set\n",
        "def als_predict(als_model, test_data, n_users, n_items):\n",
        "    predictions = []\n",
        "    for _, row in test_data.iterrows():\n",
        "        user = int(row['user_id']) - 1\n",
        "        item = int(row['item_id']) - 1\n",
        "        # Check bounds to avoid IndexError\n",
        "        if user < n_users and item < n_items:\n",
        "            pred = np.dot(als_model.user_factors[user], als_model.item_factors[item])\n",
        "            pred = min(max(pred, 1), 5)  # Clip to rating scale\n",
        "        else:\n",
        "            pred = 3.0  # Default prediction (mean rating) for unseen users/items\n",
        "        predictions.append(pred)\n",
        "    return predictions\n",
        "\n",
        "als_predictions = als_predict(als, test_data, n_users, n_items)\n",
        "als_rmse = np.sqrt(mean_squared_error(test_data['rating'], als_predictions))\n",
        "\n",
        "# Precision@k for ALS\n",
        "def als_precision_at_k(als_model, test_data, n_users, n_items, k=10, threshold=4.0):\n",
        "    user_preds = {}\n",
        "    for _, row in test_data.iterrows():\n",
        "        uid = int(row['user_id'])\n",
        "        iid = int(row['item_id'])\n",
        "        true_r = row['rating']\n",
        "        if (uid - 1) < n_users and (iid - 1) < n_items:\n",
        "            pred = min(max(np.dot(als_model.user_factors[uid-1], als_model.item_factors[iid-1]), 1), 5)\n",
        "        else:\n",
        "            pred = 3.0  # Default for unseen\n",
        "        if uid not in user_preds:\n",
        "            user_preds[uid] = []\n",
        "        user_preds[uid].append((pred, true_r))\n",
        "\n",
        "    precisions = []\n",
        "    for uid, ratings in user_preds.items():\n",
        "        ratings.sort(key=lambda x: x[0], reverse=True)\n",
        "        top_k = ratings[:k]\n",
        "        n_relevant = sum(1 for est, true in top_k if true >= threshold)\n",
        "        precisions.append(n_relevant / k if k > 0 else 0)\n",
        "    return np.mean(precisions)\n",
        "\n",
        "als_precision = als_precision_at_k(als, test_data, n_users, n_items, k=10)\n",
        "print(f\"\\nALS RMSE: {als_rmse:.4f}\")\n",
        "print(f\"ALS Precision@10: {als_precision:.4f}\")\n"
      ]
    },
    {
      "cell_type": "code",
      "execution_count": null,
      "metadata": {
        "id": "FuMzXcP0Vqd8",
        "outputId": "5377d5c7-7863-497a-ba04-c15460dc5ded"
      },
      "outputs": [
        {
          "name": "stdout",
          "output_type": "stream",
          "text": [
            "\n",
            "Performance Comparison:\n",
            "SVD - RMSE: 0.9352, Precision@10: 0.5837\n",
            "ALS - RMSE: 2.7622, Precision@10: 0.4835\n"
          ]
        }
      ],
      "source": [
        "# Step 5: Comparison\n",
        "print(\"\\nPerformance Comparison:\")\n",
        "print(f\"SVD - RMSE: {svd_rmse:.4f}, Precision@10: {svd_precision:.4f}\")\n",
        "print(f\"ALS - RMSE: {als_rmse:.4f}, Precision@10: {als_precision:.4f}\")"
      ]
    },
    {
      "cell_type": "markdown",
      "source": [
        "E. Zangerle and C. Bauer, “Evaluating Recommender Systems: Survey and Framework,” ACM Comput. Surv., vol. 55, no. 8, pp. 1–38, Aug. 2023."
      ],
      "metadata": {
        "id": "mD-3dWnbqE6o"
      }
    }
  ],
  "metadata": {
    "kernelspec": {
      "display_name": "recsys",
      "language": "python",
      "name": "python3"
    },
    "language_info": {
      "codemirror_mode": {
        "name": "ipython",
        "version": 3
      },
      "file_extension": ".py",
      "mimetype": "text/x-python",
      "name": "python",
      "nbconvert_exporter": "python",
      "pygments_lexer": "ipython3",
      "version": "3.8.20"
    },
    "colab": {
      "provenance": [],
      "include_colab_link": true
    }
  },
  "nbformat": 4,
  "nbformat_minor": 0
}