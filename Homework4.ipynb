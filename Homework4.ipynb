{
  "cells": [
    {
      "cell_type": "markdown",
      "metadata": {
        "id": "view-in-github",
        "colab_type": "text"
      },
      "source": [
        "<a href=\"https://colab.research.google.com/github/Patternic10/CSCI-4170-Project-in-AI-ML/blob/main/Homework4.ipynb\" target=\"_parent\"><img src=\"https://colab.research.google.com/assets/colab-badge.svg\" alt=\"Open In Colab\"/></a>"
      ]
    },
    {
      "cell_type": "markdown",
      "metadata": {
        "id": "l6bE0f1z9aq9"
      },
      "source": [
        "## Task 1\n",
        "\n",
        "The code for this task was adpated from the repository https://github.com/alvingao/min-char-rnn-pytorch."
      ]
    },
    {
      "cell_type": "code",
      "execution_count": null,
      "metadata": {
        "id": "m1lj1PU89arB"
      },
      "outputs": [],
      "source": [
        "\"\"\"\n",
        "Vanilla RNN implementation of min-char-rnn in PyTorch\n",
        "\"\"\"\n",
        "\n",
        "import torch\n",
        "from torch import nn, optim\n",
        "from torch.distributions import Categorical\n",
        "from torch.nn import functional as F\n",
        "from torch.utils.data import DataLoader\n",
        "from torch.utils.tensorboard import SummaryWriter\n",
        "\n",
        "from config import FILENAME, CHECKPOINT_DIR, LOG_DIR\n",
        "from dataset import TextDataset\n",
        "\n",
        "\n",
        "class RNN(nn.Module):\n",
        "    \"\"\"\n",
        "    Vanilla RNN implementation of min-char-rnn in PyTorch\n",
        "    \"\"\"\n",
        "\n",
        "    def __init__(self, input_size, hidden_size, output_size):\n",
        "        super().__init__()\n",
        "\n",
        "        self.input_size = input_size\n",
        "        self.hidden_size = hidden_size\n",
        "\n",
        "        self.i2h = nn.Linear(input_size, hidden_size)\n",
        "        self.h2h = nn.Linear(hidden_size, hidden_size)\n",
        "        self.h2o = nn.Linear(hidden_size, output_size)\n",
        "        self.softmax = nn.LogSoftmax(dim=1)\n",
        "\n",
        "    # pylint: disable=W0622\n",
        "    def forward(self, input, hidden):\n",
        "        \"\"\"\n",
        "        Forward pass of the RNN\n",
        "        \"\"\"\n",
        "        hidden = F.tanh(self.i2h(input) + self.h2h(hidden))\n",
        "        output = self.h2o(hidden)\n",
        "        output = self.softmax(output)\n",
        "        return output, hidden.detach()\n",
        "\n",
        "    def init_hidden(self, batch_size: int = 1):\n",
        "        \"\"\"\n",
        "        Returns a new hidden state of the RNN for given batch size\n",
        "        \"\"\"\n",
        "        return torch.zeros(batch_size, self.hidden_size)\n",
        "\n",
        "\n",
        "def generate_text(rnn: RNN, dataset: TextDataset, seed: torch.Tensor, n: int) -> str:\n",
        "    \"\"\"\n",
        "    Generate text output using the model.\n",
        "    \"\"\"\n",
        "    with torch.no_grad():\n",
        "        # When generating text sequence, batch size is always 1\n",
        "        hidden = rnn.init_hidden(1)\n",
        "\n",
        "        indices = []\n",
        "        idx = seed\n",
        "\n",
        "        for _ in range(n):\n",
        "            # pylint: disable=W0622,E1102\n",
        "            input = F.one_hot(idx, num_classes=dataset.vocab_size).float()\n",
        "\n",
        "            output, hidden = rnn(input, hidden)\n",
        "\n",
        "            # Construct categorical distribution and sample a (random) character\n",
        "            dist = Categorical(logits=output)\n",
        "            next_idx = dist.sample().item()\n",
        "\n",
        "            indices.append(next_idx)\n",
        "            idx = torch.tensor(next_idx)\n",
        "\n",
        "        text = dataset.vector_to_string(indices)\n",
        "        return text\n",
        "\n",
        "def train(\n",
        "    dataloader: DataLoader,\n",
        "    model: RNN,\n",
        "    loss_fn,\n",
        "    optimizer: optim.Optimizer,\n",
        "    writer: SummaryWriter,\n",
        "    num_epochs: int = 5,\n",
        "):\n",
        "    \"\"\"\n",
        "    Train the network\n",
        "    \"\"\"\n",
        "    for epoch in range(num_epochs):\n",
        "        for batch_idx, (batch_inputs, batch_targets) in enumerate(dataloader):\n",
        "            # Make the first dimension as the sequence length and second dimension as batch size\n",
        "            batch_inputs = batch_inputs.transpose(0, 1).float()\n",
        "            batch_targets = batch_targets.transpose(0, 1).long()\n",
        "\n",
        "            seq_length = batch_inputs.size(0)\n",
        "            batch_size = batch_inputs.size(1)\n",
        "\n",
        "            hidden = model.init_hidden(batch_size)\n",
        "\n",
        "            optimizer.zero_grad()\n",
        "            loss = 0\n",
        "\n",
        "            for idx in range(seq_length):\n",
        "                output, hidden = model(batch_inputs[idx], hidden)\n",
        "                loss += loss_fn(output, batch_targets[idx])\n",
        "\n",
        "            loss.backward()\n",
        "\n",
        "            # Fix the gradient exploding problem with RNNs\n",
        "            nn.utils.clip_grad_norm_(model.parameters(), 5)\n",
        "\n",
        "            optimizer.step()\n",
        "\n",
        "            #if batch_idx % 100 == 0:\n",
        "             #   print(f\"Epoch {epoch}, Iteration {batch_idx}, Loss {loss.item()}\")\n",
        "            #    writer.add_scalar(\n",
        "            #        \"Training Loss\", loss.item(), epoch * len(dataloader) + batch_idx\n",
        "             #   )\n",
        "\n",
        "            #if batch_idx % 500 == 0:\n",
        "            #    text = generate_text(\n",
        "             #       model,\n",
        "            #        dataloader.dataset,\n",
        "            #        batch_inputs[0][0].argmax(),\n",
        "             #       1000,\n",
        "             #   )\n",
        "              #  print(\"---------------\")\n",
        "             #   print(\"Sampled text:\")\n",
        "              #  print(text)\n",
        "             #   print(\"---------------\")\n",
        "\n",
        "        #print(f\"Epoch: {epoch} finished. Saving model weights.\")\n",
        "        #save_model_weights(model, f\"{CHECKPOINT_DIR}/rnn_epoch_{epoch}.pth\")\n",
        "     # Generate text only after the final epoch\n",
        "    #print(\"Training complete. Generating text after the final epoch...\")\n",
        "def setup_device():\n",
        "    \"\"\"\n",
        "    Setup default device preferring GPUs.\n",
        "    \"\"\"\n",
        "    device = torch.device(\n",
        "        \"cuda\"\n",
        "        if torch.cuda.is_available()\n",
        "        else \"mps\"\n",
        "        if torch.backends.mps.is_available()\n",
        "        else \"cpu\"\n",
        "    )\n",
        "    torch.set_default_device(device)\n",
        "\n",
        "    return device\n",
        "    dataset = TextDataset(FILENAME)\n",
        "    seed = torch.tensor(dataset.char_to_idx[\"A\"])  # Use any seed character\n",
        "    generated_text = generate_text(model, dataset, seed, 1000)\n",
        "    print(\"Generated Text:\")\n",
        "    print(generated_text)\n",
        "\n",
        "device = setup_device()\n",
        "\n",
        "dataset = TextDataset(FILENAME)\n",
        "dataloader = DataLoader(\n",
        "dataset, batch_size=64, shuffle=True, generator=torch.Generator(device=device)\n",
        "    )\n",
        "\n",
        "rnn = RNN(dataset.vocab_size, 128, dataset.vocab_size)\n",
        "\n",
        "loss_fn = nn.NLLLoss()\n",
        "optimizer = optim.Adam(rnn.parameters(), lr=1e-3)\n",
        "\n",
        "writer = SummaryWriter(LOG_DIR)"
      ]
    },
    {
      "cell_type": "code",
      "execution_count": null,
      "metadata": {
        "id": "3o5XNAiD9arE",
        "outputId": "a3b3a2a8-4c50-4eee-b21d-7fb12c021ad7"
      },
      "outputs": [
        {
          "name": "stdout",
          "output_type": "stream",
          "text": [
            "Epoch: 0 finished. Saving model weights.\n",
            "Epoch: 1 finished. Saving model weights.\n",
            "Epoch: 2 finished. Saving model weights.\n",
            "Epoch: 3 finished. Saving model weights.\n",
            "Epoch: 4 finished. Saving model weights.\n",
            "Training complete. Generating text after the final epoch...\n",
            "Generated Text:\n",
            ":\n",
            "\n",
            "GLOUCESTIR:\n",
            "Where?\n",
            "Shesey.\n",
            "\n",
            "thoust mantsblawnon the dather with surest.\n",
            "\n",
            "KION MARETHARIO:\n",
            "I seath, I wisty; hork it it in the cincco, have shis,\n",
            "Thrught seather\n",
            "the douthingumble so prough,\n",
            "Now ane\n",
            "That thou by can lialy bet upfait the  swondemest\n",
            "Toods:\n",
            "She asomiked the ersers's I wate:\n",
            "Thou shall dother,\n",
            "Niall your hinling is pooms,\n",
            "And that whom your stips to dolst!\n",
            "\n",
            "PEDWA:\n",
            "Thould sirslifut tood mak, resirbsing lowg.\n",
            "\n",
            "CATRYCUS:\n",
            "A faith, sor comenolape's this; STipher af aser'd sumen a bulkes, Or putie the waencem and dow\n",
            "That end murdiceventh are sham hid ereing fer thou\n",
            "There's not holdly vonguro. mere healted\n",
            "They Kime, oncut hange; murr's moned mealtly noth! do the Bud,\n",
            "Ae.\n",
            "I we madn, my on all wifly stur, saived a pust\n",
            "if be grvelienceng our or thou dow ching owd, setesto's comming would bull he see, ack abo leaving;\n",
            "Goofo ha kingeast gris;\n",
            "But withied\n",
            "to lount; dearsence in he, I mocks Harwer: desented, you would boine, the voud thesisseen,\n",
            "The loo man pryed!\n",
            "\n",
            "DUETING RICHAR\n"
          ]
        }
      ],
      "source": [
        "train(dataloader, rnn, loss_fn, optimizer, writer, num_epochs=5)"
      ]
    },
    {
      "cell_type": "code",
      "execution_count": null,
      "metadata": {
        "id": "WMDbgi-n9arG",
        "outputId": "a42686a2-dbc1-4532-8bf3-4da6c2ac2be7"
      },
      "outputs": [
        {
          "name": "stdout",
          "output_type": "stream",
          "text": [
            "Generated Text:\n",
            "RD:\n",
            "Nothr.\n",
            "\n",
            "LEONTES:\n",
            "We wate her in's a blussenumingnt;\n",
            "As it other's rewart.\n",
            "This fear his grave done,\n",
            "To was othen, but With ble before overeign plorion moven ho Thoughs fame, my countlemed fetenusbant of mine conjormen weepite make king,\n",
            "Or cuty: be old at it terk I will Is, enefumperick,\n",
            "And they bead, appeel-nes' your kings.\n",
            "If recimot say another lies with feled amreed sake anothy it\n",
            "Will fell.\n",
            "Lone,\n",
            "Who? wild hast too meey recoit aceetchie\n",
            "Of,\n",
            "And I'll give weep, sigh honour.\n",
            "\n",
            "TRAKET:\n",
            "When he insy must brinaly service.\n",
            "\n",
            "GLOUCESTER:\n",
            "What best\n",
            "I had knore Came lord:\n",
            "Pelant foof he me and be suret will to-dswere: that's ghace you movy fathers? I say,\n",
            "As raptitiouds. For what my sould be ray!\n",
            "'Tis that to tocess, me helfur gards,\n",
            "My hollage extinger's is should\n",
            "It was me crow? the tan the will; legror'd, and that thee ma, tilly\n",
            "So lithers, thrented with you, when with unclice purnfur done, we are made deliege\n",
            "Tased wanness, said;\n",
            "Cemes dele wich a verty.\n",
            "My had torous cleases,--\n",
            "And\n"
          ]
        }
      ],
      "source": [
        "train(dataloader, rnn, loss_fn, optimizer, writer, num_epochs=50)"
      ]
    },
    {
      "cell_type": "code",
      "execution_count": null,
      "metadata": {
        "id": "1VjvqJ2D9arH",
        "outputId": "f694d8d1-e9ff-4088-ccb6-a52a61875b08"
      },
      "outputs": [
        {
          "name": "stdout",
          "output_type": "stream",
          "text": [
            "Generated Text:\n",
            "nd thus is lies barale yet hou one him,\n",
            "Tour a care's milales,--whise post the Tow to till the within this wear a hord one usb'd my goodsatieinsue comes.\n",
            "\n",
            "Nurse, the one are, to go? Julines.\n",
            "\n",
            "PAULINCENTIO:\n",
            "Come?\n",
            "No, sorritiona let remust\n",
            "My doing first noyeth fals his right's scaril before, thou commong this excast me,\n",
            "That thronionice hid her world pry\n",
            "their some is your deance should sould\n",
            "By with your pallo mear try which since instrumbed tower world fine prize their thumpler lives prong'st me blood.\n",
            "\n",
            "KING HENRDAUN MARGAREY:\n",
            "He satch down, six\n",
            "nonevill'd ever state there of Nothers.\n",
            "What propings you; the firrle flattent; but he do my nuer me, my lord\n",
            "Morestled, marlious,\n",
            "Have herey. Come.\n",
            "\n",
            "GRUMIO:\n",
            "Kid thing his is my dispoy curse.\n",
            "\n",
            "Servay this tears with an our compey, and save we no common as befer pawn in thy name, heave alacence,\n",
            "Of past hopections,\n",
            "An all?\n",
            "\n",
            "MENENIUS:\n",
            "In cormong a come willoshal do boysing too Gruther, to thee, I have? I brother, are free so\n",
            "Yours:\n",
            "A\n",
            "NTUS:\n",
            "Prefi\n"
          ]
        }
      ],
      "source": [
        "train(dataloader, rnn, loss_fn, optimizer, writer, num_epochs=500)"
      ]
    },
    {
      "cell_type": "markdown",
      "metadata": {
        "id": "heTDjWrR9arH"
      },
      "source": [
        "It is quite obvious that the coherence of the generated text for 500 epoch although not so good was better than the trained model at 5 and 50 epoch. As the number of epochs increases, the RNN's generated text becomes more coherent, structured, and stylistically consistent with the training data. However, even at 500 epochs, the output is not perfect and still contains errors, highlighting the challenges of training RNNs for text generation tasks."
      ]
    },
    {
      "cell_type": "code",
      "execution_count": null,
      "metadata": {
        "id": "GFkrePUK9arH"
      },
      "outputs": [],
      "source": [
        "class Network(nn.Module):\n",
        "    def __init__(self, input_size, hidden_size, output_size, num_layers):\n",
        "        super().__init__()\n",
        "\n",
        "        self.lstm = nn.LSTM(\n",
        "            input_size=input_size,\n",
        "            hidden_size=hidden_size,\n",
        "            num_layers=num_layers,\n",
        "            batch_first=True,\n",
        "        )\n",
        "\n",
        "        self.out = nn.Linear(hidden_size, output_size)\n",
        "\n",
        "    def forward(self, x, state):\n",
        "        lstm_out, state = self.lstm(x, state)\n",
        "        output = self.out(lstm_out)\n",
        "        output = F.log_softmax(output, dim=-1)\n",
        "        return output, state\n",
        "\n",
        "def generate_text(\n",
        "    model: Network, dataset: TextDataset, seed: torch.Tensor, n: int\n",
        ") -> str:\n",
        "    \"\"\"\n",
        "    Generate text output using the model.\n",
        "    \"\"\"\n",
        "    with torch.no_grad():\n",
        "        indices = []\n",
        "        idx = seed\n",
        "\n",
        "        state = None\n",
        "\n",
        "        for _ in range(n):\n",
        "            # pylint: disable=W0622,E1102\n",
        "            x = F.one_hot(idx, num_classes=dataset.vocab_size).float()\n",
        "            x = x.unsqueeze(0)\n",
        "            output, state = model(x, state)\n",
        "\n",
        "            # Construct categorical distribution and sample a (random) character\n",
        "            dist = Categorical(logits=output)\n",
        "            next_idx = dist.sample().item()\n",
        "\n",
        "            indices.append(next_idx)\n",
        "            idx = torch.tensor(next_idx)\n",
        "\n",
        "        text = dataset.vector_to_string(indices)\n",
        "        return text\n",
        "\n",
        "def train(\n",
        "    dataloader: DataLoader,\n",
        "    model: Network,\n",
        "    loss_fn,\n",
        "    optimizer: optim.Optimizer,\n",
        "    writer: SummaryWriter,\n",
        "    num_epochs: int = 5,\n",
        "):\n",
        "    \"\"\"\n",
        "    Train the network\n",
        "    \"\"\"\n",
        "    for epoch in range(num_epochs):\n",
        "        for batch_idx, (batch_inputs, batch_targets) in enumerate(dataloader):\n",
        "            optimizer.zero_grad()\n",
        "            loss = 0\n",
        "\n",
        "            output, _ = model(batch_inputs, None)\n",
        "            loss = loss_fn(output.transpose(1, 2), batch_targets)\n",
        "            loss.backward()\n",
        "\n",
        "            # Fix the gradient exploding problem with RNNs\n",
        "            nn.utils.clip_grad_norm_(model.parameters(), 5)\n",
        "\n",
        "            optimizer.step()\n",
        "\n",
        "    dataset = TextDataset(FILENAME)\n",
        "    seed = torch.tensor(dataset.char_to_idx[\"A\"])  # Use any seed character\n",
        "    generated_text = generate_text(model, dataset, seed, 1000)\n",
        "    print(\"Generated Text:\")\n",
        "    print(generated_text)\n",
        "\n",
        "device = setup_device()\n",
        "\n",
        "dataset = TextDataset(FILENAME, seq_length=50)\n",
        "dataloader = DataLoader(\n",
        "        dataset, batch_size=256, shuffle=True, generator=torch.Generator(device=device)\n",
        "    )\n",
        "\n",
        "model = Network(dataset.vocab_size, 256, dataset.vocab_size, num_layers=3)\n",
        "loss_fn = nn.NLLLoss()\n",
        "optimizer = optim.Adam(model.parameters(), lr=2e-3)\n",
        "writer = SummaryWriter(LOG_DIR)"
      ]
    },
    {
      "cell_type": "code",
      "execution_count": null,
      "metadata": {
        "id": "udOaHrDj9arI",
        "outputId": "ba3f9f2b-c3f3-4869-9dfe-405a7570b02c"
      },
      "outputs": [
        {
          "name": "stdout",
          "output_type": "stream",
          "text": [
            "Generated Text:\n",
            "L:\n",
            "Sik yle mommy keanet, wochs rer hy tpingmes\n",
            "Thim tungh we the\n",
            "irll anp, storld hey fifeaon Gwovent nor\n",
            "The me'tous, hy, over varminghar; i dandounsh he borlun.\n",
            "Hit an sill counce of eprame our tirly amd\n",
            "Weybeud and ball whars your his ghator soul bick, gur:\n",
            "Them I her freor this lastouthy\n",
            "Srarserss ke Morkmostt sues nece hemve\n",
            "Whell, as ye? carll thete he; and my prains mus a by your our.\n",
            "\n",
            "MRONT HH COTLiRY:\n",
            "To hamy his peren; you sors the speel,\n",
            "And in as sann anlantaess!\n",
            " thit the weill an eussh, I dall shou waels ou;\n",
            "And you saans rte poall-bruse gpeik soe with it,\n",
            "Me sull. Coud habl thy ranpiln. mae me geiveid my rord,\n",
            "And, bouun tous you rotton flam.\n",
            "Fy tad aw the wifl mirkess by.\n",
            "If sepver be so lrors chworlost Mushif; and ale, dorperwo peosl, by anuve wo,\n",
            "I and on quale fisgedss be;\n",
            "I grmaan at drorn them pured'd\n",
            "On heit nrow hit; decanlon hou geace formert hon,\n",
            "So sus to fetper and more a skaen you aor to troud.\n",
            "Whan I masit we 'or have the mancleatt\n",
            "Hay elds to selvit, a day\n"
          ]
        }
      ],
      "source": [
        "train(dataloader, model, loss_fn, optimizer, writer, num_epochs=5)"
      ]
    },
    {
      "cell_type": "code",
      "execution_count": null,
      "metadata": {
        "id": "30rkVc4T9arJ",
        "outputId": "74da84a1-8dcb-465f-c5ff-9d8acea10f15"
      },
      "outputs": [
        {
          "name": "stdout",
          "output_type": "stream",
          "text": [
            "Generated Text:\n",
            "LUS:\n",
            "I fear her hole and run the wisdom of Green, Grumio?\n",
            "\n",
            "FRIAR LAURENCE:\n",
            "Think you my soul, he to be think to young,\n",
            "Lord marriadents, and musters is elevish all myself.\n",
            "God fare the watch of dreadful subjects, he would shame at your accused,\n",
            "That for a reselver. Speak of his father;\n",
            "Now we knew the Haste of much light and setsless bona\n",
            "No fault of lands: spurs with such durly.\n",
            "\n",
            "Nurse:\n",
            "Comineds Whereof the rousler were I fird, dreadfether.\n",
            "\n",
            "KING RICHARD II:\n",
            "Bear the more spring-staining like an an oath to Richard not\n",
            "My sir, and much than Prince himself, I want this sorrow.\n",
            "Sea shall be the chair doth fold my country is donefort?\n",
            "We have upon periten, it doth so ensured with me\n",
            "As in the lasts, on heavens, be pernited.\n",
            "\n",
            "Nurse:\n",
            "Here comes the mounning: I should ble this true underbear,\n",
            "Some purchady of his son were honour: take thy laplicy\n",
            "Nothing guess, or in warm alood,\n",
            "To burn the now resign unto signing or six bying fall and pufling;\n",
            "He must be husband here in doing our valour hea\n"
          ]
        }
      ],
      "source": [
        "train(dataloader, model, loss_fn, optimizer, writer, num_epochs=50)"
      ]
    },
    {
      "cell_type": "code",
      "execution_count": null,
      "metadata": {
        "id": "ylVdhArG9arJ",
        "outputId": "c171567a-7e54-478e-a843-97c79e37ccea"
      },
      "outputs": [
        {
          "name": "stdout",
          "output_type": "stream",
          "text": [
            "Generated Text:\n",
            "nd thou usurp'st my wife, the ruin from me only he\n",
            "That dreams, it bringing bridgling at all, yet not dead,\n",
            "His ladat, you're affords undeed an apulish; stopp'd,\n",
            "Letters as e'st! you must return any witchfrims of lecterince.\n",
            "\n",
            "BUCKINGHAM:\n",
            "Return, my kinsman nears must I call you beat.\n",
            "\n",
            "LUCENTIO:\n",
            "Well best before I go.\n",
            "\n",
            "ROMEO:\n",
            "Can not the people.\n",
            "\n",
            "CORIOLANUS:\n",
            "I do not like the man:\n",
            "For though us that o'erpoor down to tread on.\n",
            "\n",
            "Citizens:\n",
            "We'll entertain'd, 'Wipesper.\n",
            "\n",
            "Officer:\n",
            "It is frank; here's like a notcer's poison for such.\n",
            "I pray King Henry, be ta'en,\n",
            "Which oft and kingly love the present acts of twence\n",
            "Our scolming guels that would insuft what thee.\n",
            "\n",
            "LADY GREY:\n",
            "Right gentlemen, more than can I not show.\n",
            "\n",
            "TRANIO:\n",
            "Chalge! he hath not your delight, he sends ye mean:\n",
            "But if ever from hence the skaves of mildly out doth\n",
            "gentle, deviline knowl'd up: his late life thee,\n",
            "They say, thou liest, might have it so. I am not loath\n",
            "To tells me to repose his heart; and I have no sauch done.\n",
            "\n",
            "KING\n"
          ]
        }
      ],
      "source": [
        "train(dataloader, model, loss_fn, optimizer, writer, num_epochs=500)"
      ]
    },
    {
      "cell_type": "markdown",
      "metadata": {
        "id": "MPUaGA019arJ"
      },
      "source": [
        "The generated text from the LSTM (Long Short-Term Memory) model shows a clear progression in quality and coherence as the number of training epochs increases (5, 50, and 500 epochs). LSTMs are generally more powerful than basic RNNs due to their ability to capture long-term dependencies, and this is reflected in the generated text.\n",
        "\n",
        "Both models show a clear progression in text quality as the number of epochs increases, but the LSTM's ability to capture long-term dependencies gives it a significant advantage over the RNN.\n",
        "\n",
        "At 5 epochs, both models produce highly incoherent text.\n",
        "\n",
        "At 500 epochs, the LSTM produces text that is closer to human-like writing, with fewer errors and better coherence, while the RNN still struggles with consistency and meaningful phrasing.\n",
        "\n",
        "The LSTM generates more structured and meaningful text even at lower epochs (e.g., 50), while the RNN requires significantly more training (e.g., 500 epochs) to achieve similar results."
      ]
    },
    {
      "cell_type": "markdown",
      "metadata": {
        "id": "99lUE_Pp9arJ"
      },
      "source": [
        "# Task 2\n",
        "Part 1\n",
        "For this task, I will use a time-series dataset to predict future values based on historical data. The dataset I have chosen is the Air Passengers dataset, which contains monthly totals of international airline passengers from 1949 to 1960. This dataset is an example of sequential data, and predicting future passenger counts is a problem that can be effectively solved using sequence models like RNNs.\n",
        "\n",
        "https://www.kaggle.com/datasets/rakannimer/air-passengers/data\n",
        "\n",
        "Why Sequence Models?\n",
        "Sequence models like RNNs (Recurrent Neural Networks) are ideal for this task because:\n",
        "\n",
        "Temporal Dependencies: The data is sequential, and future values depend on past values. RNNs are designed to capture such dependencies.\n",
        "\n",
        "Variable-Length Inputs: RNNs can handle sequences of varying lengths, making them suitable for time-series data.\n",
        "\n",
        "Memory of Past States: RNNs maintain a hidden state that captures information from previous time steps, which is crucial for time-series forecasting.\n",
        "\n",
        "RNN Structure\n",
        "The RNN will have the following structure:\n",
        "\n",
        "Input Layer: Takes the number of features (in this case, 1, as we are predicting based on a single time series).\n",
        "\n",
        "Hidden Layer: A single RNN layer with a hidden state size of 128.\n",
        "\n",
        "Output Layer: A fully connected layer to map the hidden state to the output (predicted passenger count).\n",
        "\n",
        "Activation Functions\n",
        "Hidden Layer: tanh activation function is used in the RNN cell to introduce non-linearity.\n",
        "\n",
        "Output Layer: No activation function (linear layer) since this is a regression task.\n",
        "\n",
        "Loss Function\n",
        "Mean Squared Error (MSE): Used to measure the difference between predicted and actual values.\n",
        "\n",
        "Performance Metric\n",
        "Root Mean Squared Error (RMSE): This metric is used to evaluate the model's performance on both the validation and test sets. RMSE is chosen because it is interpretable in the same units as the target variable (number of passengers)."
      ]
    },
    {
      "cell_type": "code",
      "execution_count": null,
      "metadata": {
        "id": "wyK3tLn39arK"
      },
      "outputs": [],
      "source": [
        "import torch\n",
        "import torch.nn as nn\n",
        "import numpy as np\n",
        "import pandas as pd\n",
        "from sklearn.preprocessing import MinMaxScaler\n",
        "from sklearn.metrics import mean_squared_error\n",
        "import matplotlib.pyplot as plt"
      ]
    },
    {
      "cell_type": "code",
      "execution_count": null,
      "metadata": {
        "id": "fzkJG5ra9arK",
        "outputId": "db5e6ccc-f68b-4b9e-909f-9c1189b597d0"
      },
      "outputs": [
        {
          "data": {
            "text/html": [
              "<div>\n",
              "<style scoped>\n",
              "    .dataframe tbody tr th:only-of-type {\n",
              "        vertical-align: middle;\n",
              "    }\n",
              "\n",
              "    .dataframe tbody tr th {\n",
              "        vertical-align: top;\n",
              "    }\n",
              "\n",
              "    .dataframe thead th {\n",
              "        text-align: right;\n",
              "    }\n",
              "</style>\n",
              "<table border=\"1\" class=\"dataframe\">\n",
              "  <thead>\n",
              "    <tr style=\"text-align: right;\">\n",
              "      <th></th>\n",
              "      <th>#Passengers</th>\n",
              "    </tr>\n",
              "  </thead>\n",
              "  <tbody>\n",
              "    <tr>\n",
              "      <th>0</th>\n",
              "      <td>112</td>\n",
              "    </tr>\n",
              "    <tr>\n",
              "      <th>1</th>\n",
              "      <td>118</td>\n",
              "    </tr>\n",
              "    <tr>\n",
              "      <th>2</th>\n",
              "      <td>132</td>\n",
              "    </tr>\n",
              "    <tr>\n",
              "      <th>3</th>\n",
              "      <td>129</td>\n",
              "    </tr>\n",
              "    <tr>\n",
              "      <th>4</th>\n",
              "      <td>121</td>\n",
              "    </tr>\n",
              "  </tbody>\n",
              "</table>\n",
              "</div>"
            ],
            "text/plain": [
              "   #Passengers\n",
              "0          112\n",
              "1          118\n",
              "2          132\n",
              "3          129\n",
              "4          121"
            ]
          },
          "execution_count": 2,
          "metadata": {},
          "output_type": "execute_result"
        }
      ],
      "source": [
        "df = pd.read_csv('AirPassengers.csv', usecols=[1], engine='python')\n",
        "df.head()"
      ]
    },
    {
      "cell_type": "code",
      "execution_count": null,
      "metadata": {
        "id": "tjZpy4f29arK"
      },
      "outputs": [],
      "source": [
        "dataset = df.values.astype('float32')"
      ]
    },
    {
      "cell_type": "code",
      "execution_count": null,
      "metadata": {
        "id": "feAthPaB9arK"
      },
      "outputs": [],
      "source": [
        "# Normalize the dataset\n",
        "scaler = MinMaxScaler(feature_range=(0, 1))\n",
        "dataset = scaler.fit_transform(dataset)\n",
        "\n",
        "# Split into training and testing sets\n",
        "train_size = int(len(dataset) * 0.67)\n",
        "test_size = len(dataset) - train_size\n",
        "train, test = dataset[0:train_size, :], dataset[train_size:len(dataset), :]"
      ]
    },
    {
      "cell_type": "code",
      "execution_count": null,
      "metadata": {
        "id": "GxUJyBRh9arL"
      },
      "outputs": [],
      "source": [
        "# Convert an array of values into a dataset matrix\n",
        "def create_dataset(dataset, look_back=1):\n",
        "    X, Y = [], []\n",
        "    for i in range(len(dataset) - look_back):\n",
        "        X.append(dataset[i:(i + look_back), 0])\n",
        "        Y.append(dataset[i + look_back, 0])\n",
        "    return np.array(X), np.array(Y)"
      ]
    },
    {
      "cell_type": "code",
      "execution_count": null,
      "metadata": {
        "id": "F4AEnjo89arL"
      },
      "outputs": [],
      "source": [
        "# Reshape into X=t and Y=t+1\n",
        "look_back = 3\n",
        "X_train, y_train = create_dataset(train, look_back)\n",
        "X_test, y_test = create_dataset(test, look_back)"
      ]
    },
    {
      "cell_type": "code",
      "execution_count": null,
      "metadata": {
        "id": "vC4QgHXq9arL"
      },
      "outputs": [],
      "source": [
        "# Convert to PyTorch tensors\n",
        "X_train = torch.tensor(X_train, dtype=torch.float32).unsqueeze(2)\n",
        "y_train = torch.tensor(y_train, dtype=torch.float32)\n",
        "X_test = torch.tensor(X_test, dtype=torch.float32).unsqueeze(2)\n",
        "y_test = torch.tensor(y_test, dtype=torch.float32)"
      ]
    },
    {
      "cell_type": "code",
      "execution_count": null,
      "metadata": {
        "id": "n_CeWQ0H9arL"
      },
      "outputs": [],
      "source": [
        "# Define the RNN model\n",
        "class RNN(nn.Module):\n",
        "    def __init__(self, input_size, hidden_size, output_size):\n",
        "        super(RNN, self).__init__()\n",
        "        self.hidden_size = hidden_size\n",
        "        self.rnn = nn.RNN(input_size, hidden_size, batch_first=True)\n",
        "        self.fc = nn.Linear(hidden_size, output_size)\n",
        "\n",
        "    def forward(self, x):\n",
        "        h0 = torch.zeros(1, x.size(0), self.hidden_size)\n",
        "        out, _ = self.rnn(x, h0)\n",
        "        out = self.fc(out[:, -1, :])\n",
        "        return out"
      ]
    },
    {
      "cell_type": "code",
      "execution_count": null,
      "metadata": {
        "id": "378e2GAb9arL"
      },
      "outputs": [],
      "source": [
        "# Hyperparameters\n",
        "input_size = 1\n",
        "hidden_size = 128\n",
        "output_size = 1\n",
        "learning_rate = 0.001\n",
        "num_epochs = 50\n",
        "\n",
        "# Initialize the model, loss function, and optimizer\n",
        "model = RNN(input_size, hidden_size, output_size)\n",
        "criterion = nn.MSELoss()\n",
        "optimizer = torch.optim.Adam(model.parameters(), lr=learning_rate)"
      ]
    },
    {
      "cell_type": "code",
      "execution_count": null,
      "metadata": {
        "id": "EC41FG1c9arL",
        "outputId": "d140510b-0ec3-4845-aa5f-58180dc63677"
      },
      "outputs": [
        {
          "name": "stderr",
          "output_type": "stream",
          "text": [
            "/home/kazeej/anaconda3/envs/RNN/lib/python3.13/site-packages/torch/nn/modules/loss.py:610: UserWarning: Using a target size (torch.Size([93])) that is different to the input size (torch.Size([93, 1])). This will likely lead to incorrect results due to broadcasting. Please ensure they have the same size.\n",
            "  return F.mse_loss(input, target, reduction=self.reduction)\n"
          ]
        },
        {
          "name": "stdout",
          "output_type": "stream",
          "text": [
            "Epoch [5/50], Loss: 0.0198\n",
            "Epoch [10/50], Loss: 0.0223\n",
            "Epoch [15/50], Loss: 0.0205\n",
            "Epoch [20/50], Loss: 0.0204\n",
            "Epoch [25/50], Loss: 0.0188\n",
            "Epoch [30/50], Loss: 0.0194\n",
            "Epoch [35/50], Loss: 0.0186\n",
            "Epoch [40/50], Loss: 0.0189\n",
            "Epoch [45/50], Loss: 0.0186\n",
            "Epoch [50/50], Loss: 0.0187\n"
          ]
        }
      ],
      "source": [
        "# Training loop\n",
        "for epoch in range(num_epochs):\n",
        "    model.train()\n",
        "    outputs = model(X_train).squeeze()\n",
        "    loss = criterion(outputs, y_train.unsqueeze())\n",
        "\n",
        "    optimizer.zero_grad()\n",
        "    loss.backward()\n",
        "    optimizer.step()\n",
        "\n",
        "    if (epoch + 1) % 5 == 0:\n",
        "        print(f'Epoch [{epoch+1}/{num_epochs}], Loss: {loss.item():.4f}')"
      ]
    },
    {
      "cell_type": "code",
      "execution_count": null,
      "metadata": {
        "id": "ugh8CQWA9arM",
        "outputId": "4c8ebdfb-cfdb-41b4-a005-c58474a7b789"
      },
      "outputs": [
        {
          "name": "stdout",
          "output_type": "stream",
          "text": [
            "Epoch [5/50], Loss: 0.0186\n",
            "Epoch [10/50], Loss: 0.0186\n",
            "Epoch [15/50], Loss: 0.0186\n",
            "Epoch [20/50], Loss: 0.0186\n",
            "Epoch [25/50], Loss: 0.0186\n",
            "Epoch [30/50], Loss: 0.0186\n",
            "Epoch [35/50], Loss: 0.0186\n",
            "Epoch [40/50], Loss: 0.0186\n",
            "Epoch [45/50], Loss: 0.0186\n",
            "Epoch [50/50], Loss: 0.0186\n"
          ]
        },
        {
          "data": {
            "image/png": "[encoded data removed]",
            "text/plain": [
              "<Figure size 640x480 with 1 Axes>"
            ]
          },
          "metadata": {},
          "output_type": "display_data"
        }
      ],
      "source": [
        "train_losses = []  # To store loss values\n",
        "\n",
        "for epoch in range(num_epochs):\n",
        "    model.train()\n",
        "    outputs = model(X_train)\n",
        "    loss = criterion(outputs, y_train)\n",
        "\n",
        "    optimizer.zero_grad()\n",
        "    loss.backward()\n",
        "    optimizer.step()\n",
        "\n",
        "    train_losses.append(loss.item())  # Store the loss\n",
        "\n",
        "    if (epoch + 1) % 5 == 0:\n",
        "        print(f'Epoch [{epoch+1}/{num_epochs}], Loss: {loss.item():.4f}')\n",
        "\n",
        "# Plot the training loss\n",
        "plt.plot(range(1, num_epochs + 1), train_losses, label='Training Loss')\n",
        "plt.xlabel('Epoch')\n",
        "plt.ylabel('Loss')\n",
        "plt.title('Training Loss Over Epochs')\n",
        "plt.legend()\n",
        "plt.show()"
      ]
    },
    {
      "cell_type": "code",
      "execution_count": null,
      "metadata": {
        "id": "mbA4TGhR9arM",
        "outputId": "610b98c8-bb34-43bc-e3b3-33a2791d5bf6"
      },
      "outputs": [
        {
          "name": "stdout",
          "output_type": "stream",
          "text": [
            "Epoch [5/50], Loss: 0.0285\n",
            "Epoch [10/50], Loss: 0.0119\n",
            "Epoch [15/50], Loss: 0.0075\n",
            "Epoch [20/50], Loss: 0.0063\n",
            "Epoch [25/50], Loss: 0.0083\n",
            "Epoch [30/50], Loss: 0.0071\n",
            "Epoch [35/50], Loss: 0.0053\n",
            "Epoch [40/50], Loss: 0.0040\n",
            "Epoch [45/50], Loss: 0.0034\n",
            "Epoch [50/50], Loss: 0.0030\n",
            "Train RMSE: 0.05\n",
            "Validation RMSE: 0.10\n",
            "Test RMSE: 0.15\n"
          ]
        },
        {
          "data": {
            "image/png": "[encoded data removed]",
            "text/plain": [
              "<Figure size 640x480 with 1 Axes>"
            ]
          },
          "metadata": {},
          "output_type": "display_data"
        }
      ],
      "source": [
        "import torch\n",
        "import torch.nn as nn\n",
        "import numpy as np\n",
        "import pandas as pd\n",
        "from sklearn.preprocessing import MinMaxScaler\n",
        "from sklearn.metrics import mean_squared_error\n",
        "import matplotlib.pyplot as plt\n",
        "\n",
        "# Normalize the dataset\n",
        "scaler = MinMaxScaler(feature_range=(0, 1))\n",
        "dataset = scaler.fit_transform(dataset)\n",
        "\n",
        "# Split into training, validation, and test sets\n",
        "train_size = int(len(dataset) * 0.67)\n",
        "test_size = len(dataset) - train_size\n",
        "val_size = int(train_size * 0.2)  # 20% of training set for validation\n",
        "train, val, test = dataset[0:train_size - val_size, :], dataset[train_size - val_size:train_size, :], dataset[train_size:len(dataset), :]\n",
        "\n",
        "# Convert an array of values into a dataset matrix\n",
        "def create_dataset(dataset, look_back=1):\n",
        "    X, Y = [], []\n",
        "    for i in range(len(dataset) - look_back):\n",
        "        X.append(dataset[i:(i + look_back), 0])\n",
        "        Y.append(dataset[i + look_back, 0])\n",
        "    return np.array(X), np.array(Y)\n",
        "\n",
        "# Reshape into X=t and Y=t+1\n",
        "look_back = 3\n",
        "X_train, y_train = create_dataset(train, look_back)\n",
        "X_val, y_val = create_dataset(val, look_back)\n",
        "X_test, y_test = create_dataset(test, look_back)\n",
        "\n",
        "# Convert to PyTorch tensors\n",
        "X_train = torch.tensor(X_train, dtype=torch.float32).unsqueeze(2)\n",
        "y_train = torch.tensor(y_train, dtype=torch.float32)\n",
        "X_val = torch.tensor(X_val, dtype=torch.float32).unsqueeze(2)\n",
        "y_val = torch.tensor(y_val, dtype=torch.float32)\n",
        "X_test = torch.tensor(X_test, dtype=torch.float32).unsqueeze(2)\n",
        "y_test = torch.tensor(y_test, dtype=torch.float32)\n",
        "\n",
        "# Define the RNN model\n",
        "class RNN(nn.Module):\n",
        "    def __init__(self, input_size, hidden_size, output_size):\n",
        "        super(RNN, self).__init__()\n",
        "        self.hidden_size = hidden_size\n",
        "        self.rnn = nn.RNN(input_size, hidden_size, batch_first=True)\n",
        "        self.fc = nn.Linear(hidden_size, output_size)\n",
        "\n",
        "    def forward(self, x):\n",
        "        h0 = torch.zeros(1, x.size(0), self.hidden_size)\n",
        "        out, _ = self.rnn(x, h0)\n",
        "        out = self.fc(out[:, -1, :])\n",
        "        return out\n",
        "\n",
        "# Hyperparameters\n",
        "input_size = 1\n",
        "hidden_size = 128\n",
        "output_size = 1\n",
        "learning_rate = 0.01\n",
        "num_epochs = 50\n",
        "\n",
        "# Initialize the model, loss function, and optimizer\n",
        "model = RNN(input_size, hidden_size, output_size)\n",
        "criterion = nn.MSELoss()\n",
        "optimizer = torch.optim.Adam(model.parameters(), lr=learning_rate)\n",
        "\n",
        "# Training loop\n",
        "train_losses = []\n",
        "for epoch in range(num_epochs):\n",
        "    model.train()\n",
        "    outputs = model(X_train).squeeze()  # Reshape model output to match target shape\n",
        "    loss = criterion(outputs, y_train)\n",
        "\n",
        "    optimizer.zero_grad()\n",
        "    loss.backward()\n",
        "    optimizer.step()\n",
        "\n",
        "    train_losses.append(loss.item())\n",
        "\n",
        "    if (epoch + 1) % 5 == 0:  # Print loss every 5 epochs\n",
        "        print(f'Epoch [{epoch+1}/{num_epochs}], Loss: {loss.item():.4f}')\n",
        "\n",
        "# Evaluation\n",
        "model.eval()\n",
        "with torch.no_grad():\n",
        "    train_predict = model(X_train).squeeze()  # Reshape model output\n",
        "    val_predict = model(X_val).squeeze()  # Reshape model output\n",
        "    test_predict = model(X_test).squeeze()  # Reshape model output\n",
        "\n",
        "# Inverse transform predictions\n",
        "train_predict_inv = scaler.inverse_transform(train_predict.numpy().reshape(-1, 1))\n",
        "y_train_inv = scaler.inverse_transform(y_train.numpy().reshape(-1, 1))\n",
        "val_predict_inv = scaler.inverse_transform(val_predict.numpy().reshape(-1, 1))\n",
        "y_val_inv = scaler.inverse_transform(y_val.numpy().reshape(-1, 1))\n",
        "test_predict_inv = scaler.inverse_transform(test_predict.numpy().reshape(-1, 1))\n",
        "y_test_inv = scaler.inverse_transform(y_test.numpy().reshape(-1, 1))\n",
        "\n",
        "# Flatten test_predict\n",
        "test_predict_inv = test_predict_inv.flatten()\n",
        "\n",
        "\n",
        "# Generate x values for test predictions\n",
        "test_x = np.arange(\n",
        "    look_back + len(train_predict_inv) + len(val_predict_inv),\n",
        "    look_back + len(train_predict_inv) + len(val_predict_inv) + len(test_predict_inv)\n",
        ")\n",
        "\n",
        "# Calculate RMSE for training, validation, and test sets\n",
        "train_rmse = np.sqrt(mean_squared_error(y_train_inv, train_predict_inv))\n",
        "val_rmse = np.sqrt(mean_squared_error(y_val_inv, val_predict_inv))\n",
        "test_rmse = np.sqrt(mean_squared_error(y_test_inv, test_predict_inv))\n",
        "\n",
        "print(f'Train RMSE: {train_rmse:.2f}')\n",
        "print(f'Validation RMSE: {val_rmse:.2f}')\n",
        "print(f'Test RMSE: {test_rmse:.2f}')\n",
        "\n",
        "# Plot the results with updated variable names\n",
        "plt.plot(scaler.inverse_transform(dataset), label='Original Data')\n",
        "plt.plot(\n",
        "    np.arange(look_back + len(train_predict_inv),\n",
        "              look_back + len(train_predict_inv) + len(val_predict_inv)),\n",
        "    val_predict_inv, label='Validation Predictions'\n",
        ")\n",
        "plt.plot(test_x, test_predict_inv, label='Test Predictions')\n",
        "plt.legend()\n",
        "plt.show()"
      ]
    },
    {
      "cell_type": "code",
      "execution_count": null,
      "metadata": {
        "id": "cThFLYX-9arM",
        "outputId": "eaf57b88-5aae-41d8-a895-8554bb24738b"
      },
      "outputs": [
        {
          "data": {
            "image/png": "[encoded data removed]",
            "text/plain": [
              "<Figure size 640x480 with 1 Axes>"
            ]
          },
          "metadata": {},
          "output_type": "display_data"
        }
      ],
      "source": [
        "import matplotlib.pyplot as plt\n",
        "\n",
        "# Loss values\n",
        "epochs = [5, 10, 15, 20, 25, 30, 35, 40, 45, 50]\n",
        "losses = [0.0285, 0.0119, 0.0075, 0.0063, 0.0083, 0.0071, 0.0053, 0.0040, 0.0034, 0.0030]\n",
        "\n",
        "# Plot loss vs. epoch\n",
        "plt.plot(epochs, losses, marker='o', linestyle='-', color='b')\n",
        "plt.title('Loss vs. Epoch')\n",
        "plt.xlabel('Epoch')\n",
        "plt.ylabel('Loss')\n",
        "plt.grid(True)\n",
        "plt.show()"
      ]
    },
    {
      "cell_type": "markdown",
      "metadata": {
        "id": "VATckcRV9arN"
      },
      "source": [
        "# Part 2 LSTM and GRU"
      ]
    },
    {
      "cell_type": "code",
      "execution_count": null,
      "metadata": {
        "id": "zmTHIeyn9arN"
      },
      "outputs": [],
      "source": [
        "class LSTM(nn.Module):\n",
        "    def __init__(self, input_size, hidden_size, output_size):\n",
        "        super(LSTM, self).__init__()\n",
        "        self.hidden_size = hidden_size\n",
        "        self.lstm = nn.LSTM(input_size, hidden_size, batch_first=True)\n",
        "        self.fc = nn.Linear(hidden_size, output_size)\n",
        "\n",
        "    def forward(self, x):\n",
        "        h0 = torch.zeros(1, x.size(0), self.hidden_size)  # Initial hidden state\n",
        "        c0 = torch.zeros(1, x.size(0), self.hidden_size)  # Initial cell state\n",
        "        out, _ = self.lstm(x, (h0, c0))  # LSTM forward pass\n",
        "        out = self.fc(out[:, -1, :])  # Use the last time step's output\n",
        "        return out"
      ]
    },
    {
      "cell_type": "code",
      "execution_count": null,
      "metadata": {
        "id": "pY45zkdQ9arN",
        "outputId": "100e0283-6cbb-474c-da46-d9e9daffd2d2"
      },
      "outputs": [
        {
          "name": "stdout",
          "output_type": "stream",
          "text": [
            "Epoch [5/50], Loss: 0.0083\n",
            "Epoch [10/50], Loss: 0.0076\n",
            "Epoch [15/50], Loss: 0.0070\n",
            "Epoch [20/50], Loss: 0.0069\n",
            "Epoch [25/50], Loss: 0.0057\n",
            "Epoch [30/50], Loss: 0.0045\n",
            "Epoch [35/50], Loss: 0.0034\n",
            "Epoch [40/50], Loss: 0.0026\n",
            "Epoch [45/50], Loss: 0.0023\n",
            "Epoch [50/50], Loss: 0.0024\n",
            "LSTM - Train RMSE: 0.05\n",
            "LSTM - Validation RMSE: 0.10\n",
            "LSTM - Test RMSE: 0.15\n"
          ]
        }
      ],
      "source": [
        "#LSTM Implementation\n",
        "# Initialize the LSTM model\n",
        "model = LSTM(input_size, hidden_size, output_size)\n",
        "criterion = nn.MSELoss()\n",
        "optimizer = torch.optim.Adam(model.parameters(), lr=learning_rate)\n",
        "\n",
        "# Training loop (same as before)\n",
        "for epoch in range(num_epochs):\n",
        "    model.train()\n",
        "    outputs = model(X_train).squeeze()\n",
        "    loss = criterion(outputs, y_train)\n",
        "\n",
        "    optimizer.zero_grad()\n",
        "    loss.backward()\n",
        "    optimizer.step()\n",
        "\n",
        "    if (epoch + 1) % 5 == 0:\n",
        "        print(f'Epoch [{epoch+1}/{num_epochs}], Loss: {loss.item():.4f}')\n",
        "\n",
        "# Evaluation (same as before)\n",
        "model.eval()\n",
        "with torch.no_grad():\n",
        "    train_predict = model(X_train).squeeze()\n",
        "    val_predict = model(X_val).squeeze()\n",
        "    test_predict = model(X_test).squeeze()\n",
        "\n",
        "# Calculate RMSE for LSTM\n",
        "train_rmse_lstm = np.sqrt(mean_squared_error(y_train, train_predict))\n",
        "val_rmse_lstm = np.sqrt(mean_squared_error(y_val, val_predict))\n",
        "test_rmse_lstm = np.sqrt(mean_squared_error(y_test, test_predict))\n",
        "print(f'LSTM - Train RMSE: {train_rmse_lstm:.2f}')\n",
        "print(f'LSTM - Validation RMSE: {val_rmse_lstm:.2f}')\n",
        "print(f'LSTM - Test RMSE: {test_rmse_lstm:.2f}')"
      ]
    },
    {
      "cell_type": "code",
      "execution_count": null,
      "metadata": {
        "id": "KlYRGnUZ9arN",
        "outputId": "32340b39-7085-4ba7-ccfd-44d5a941284d"
      },
      "outputs": [
        {
          "data": {
            "image/png": "[encoded data removed]",
            "text/plain": [
              "<Figure size 640x480 with 1 Axes>"
            ]
          },
          "metadata": {},
          "output_type": "display_data"
        }
      ],
      "source": [
        "import matplotlib.pyplot as plt\n",
        "\n",
        "# Loss values\n",
        "epochs = [5, 10, 15, 20, 25, 30, 35, 40, 45, 50]\n",
        "losses = [0.0083, 0.0076, 0.0070, 0.0069, 0.0057, 0.0045, 0.0034, 0.0026, 0.0023, 0.0024]\n",
        "\n",
        "# Plot loss vs. epoch\n",
        "plt.plot(epochs, losses, marker='o', linestyle='-', color='b')\n",
        "plt.title('Loss vs. Epoch')\n",
        "plt.xlabel('Epoch')\n",
        "plt.ylabel('Loss')\n",
        "plt.grid(True)\n",
        "plt.show()"
      ]
    },
    {
      "cell_type": "code",
      "execution_count": null,
      "metadata": {
        "id": "_0CgsWFy9arN"
      },
      "outputs": [],
      "source": [
        "class GRU(nn.Module):\n",
        "    def __init__(self, input_size, hidden_size, output_size):\n",
        "        super(GRU, self).__init__()\n",
        "        self.hidden_size = hidden_size\n",
        "        self.gru = nn.GRU(input_size, hidden_size, batch_first=True)\n",
        "        self.fc = nn.Linear(hidden_size, output_size)\n",
        "\n",
        "    def forward(self, x):\n",
        "        h0 = torch.zeros(1, x.size(0), self.hidden_size)  # Initial hidden state\n",
        "        out, _ = self.gru(x, h0)  # GRU forward pass\n",
        "        out = self.fc(out[:, -1, :])  # Use the last time step's output\n",
        "        return out"
      ]
    },
    {
      "cell_type": "code",
      "execution_count": null,
      "metadata": {
        "id": "YxGYcw5i9arN",
        "outputId": "cb05cfc5-345f-4c07-9358-5fe10372a18a"
      },
      "outputs": [
        {
          "name": "stdout",
          "output_type": "stream",
          "text": [
            "Epoch [5/50], Loss: 0.0077\n",
            "Epoch [10/50], Loss: 0.0078\n",
            "Epoch [15/50], Loss: 0.0081\n",
            "Epoch [20/50], Loss: 0.0063\n",
            "Epoch [25/50], Loss: 0.0044\n",
            "Epoch [30/50], Loss: 0.0035\n",
            "Epoch [35/50], Loss: 0.0026\n",
            "Epoch [40/50], Loss: 0.0021\n",
            "Epoch [45/50], Loss: 0.0023\n",
            "Epoch [50/50], Loss: 0.0021\n",
            "GRU - Train RMSE: 0.05\n",
            "GRU - Validation RMSE: 0.09\n",
            "GRU - Test RMSE: 0.12\n"
          ]
        }
      ],
      "source": [
        "# Initialize the GRU model\n",
        "model = GRU(input_size, hidden_size, output_size)\n",
        "criterion = nn.MSELoss()\n",
        "optimizer = torch.optim.Adam(model.parameters(), lr=learning_rate)\n",
        "\n",
        "# Training loop (same as before)\n",
        "for epoch in range(num_epochs):\n",
        "    model.train()\n",
        "    outputs = model(X_train).squeeze()\n",
        "    loss = criterion(outputs, y_train)\n",
        "\n",
        "    optimizer.zero_grad()\n",
        "    loss.backward()\n",
        "    optimizer.step()\n",
        "\n",
        "    if (epoch + 1) % 5 == 0:\n",
        "        print(f'Epoch [{epoch+1}/{num_epochs}], Loss: {loss.item():.4f}')\n",
        "\n",
        "# Evaluation (same as before)\n",
        "model.eval()\n",
        "with torch.no_grad():\n",
        "    train_predict = model(X_train).squeeze()\n",
        "    val_predict = model(X_val).squeeze()\n",
        "    test_predict = model(X_test).squeeze()\n",
        "\n",
        "# Calculate RMSE for GRU\n",
        "train_rmse_gru = np.sqrt(mean_squared_error(y_train, train_predict))\n",
        "val_rmse_gru = np.sqrt(mean_squared_error(y_val, val_predict))\n",
        "test_rmse_gru = np.sqrt(mean_squared_error(y_test, test_predict))\n",
        "print(f'GRU - Train RMSE: {train_rmse_gru:.2f}')\n",
        "print(f'GRU - Validation RMSE: {val_rmse_gru:.2f}')\n",
        "print(f'GRU - Test RMSE: {test_rmse_gru:.2f}')"
      ]
    },
    {
      "cell_type": "code",
      "execution_count": null,
      "metadata": {
        "id": "9LeqnEBY9arN",
        "outputId": "9c7caafa-3a85-4a41-a556-a8433af01600"
      },
      "outputs": [
        {
          "data": {
            "image/png": "[encoded data removed]",
            "text/plain": [
              "<Figure size 640x480 with 1 Axes>"
            ]
          },
          "metadata": {},
          "output_type": "display_data"
        }
      ],
      "source": [
        "import matplotlib.pyplot as plt\n",
        "\n",
        "# Loss values\n",
        "epochs = [5, 10, 15, 20, 25, 30, 35, 40, 45, 50]\n",
        "losses = [0.0077, 0.0078, 0.0081, 0.0063, 0.0044, 0.0035, 0.0026, 0.0021, 0.0023, 0.0021]\n",
        "\n",
        "# Plot loss vs. epoch\n",
        "plt.plot(epochs, losses, marker='o', linestyle='-', color='b')\n",
        "plt.title('Loss vs. Epoch')\n",
        "plt.xlabel('Epoch')\n",
        "plt.ylabel('Loss')\n",
        "plt.grid(True)\n",
        "plt.show()"
      ]
    },
    {
      "cell_type": "markdown",
      "metadata": {
        "id": "ldJiu0WT9arO"
      },
      "source": [
        "## Part 3\n",
        "A traditional feed-forward neural network (FFN) can be used to solve the time-series prediction problem, but it is not the most natural or effective choice for this type of task. Reasons could be\n",
        "1. Time-Series Data and Sequential Dependencies\n",
        "Time-series data, such as the Air Passengers dataset, has a temporal structure where the value at a given time step depends on previous time steps. This sequential dependency is a key characteristic of time-series data.\n",
        "Feed-Forward Networks (FFNs): FFNs are not designed to handle sequential dependencies. They treat each input as independent and do not have any mechanism to \"remember\" past inputs. This makes it difficult for FFNs to capture patterns like trends, seasonality, or autocorrelation in time-series data.\n",
        "\n",
        "Recurrent Neural Networks (RNNs): RNNs, on the other hand, are specifically designed for sequential data. They have a memory mechanism that allows them to retain information from previous time steps, making them more suitable for time-series prediction.\n",
        "\n",
        "2. Converting Time-Series Data for FFNs\n",
        "To use a feed-forward network for time-series prediction, you need to transform the sequential data into a format that FFNs can process. This typically involves creating a set of features that represent the temporal dependencies. Here's how you can do it:\n",
        "\n",
        "Feature Engineering for FFNs:\n",
        "Lag Features: Use past values (lags) as input features. For example, if you want to predict the number of passengers at time\n",
        "t,  you can use the values at t-1,t-2,...,t-n as input features.\n",
        "\n",
        "Rolling Statistics: Compute rolling statistics like mean, standard deviation, or moving averages over a sliding window of past values and use them as features.\n",
        "\n",
        "Once the data is transformed into these features, it can be fed into a feed-forward network. However, this approach requires careful feature engineering and may not generalize well to complex time-series patterns.\n",
        "\n",
        "To summarize, while a traditional feed-forward network can be used for time-series prediction by transforming the data into feature-based inputs, it is not the most natural or effective approach. Sequence models like RNNs, LSTMs, or GRUs are better suited for this task because they are designed to handle sequential dependencies and can automatically learn temporal patterns without extensive feature engineering. However, FFNs can still be used as a baseline model or for simpler time-series problems."
      ]
    },
    {
      "cell_type": "markdown",
      "metadata": {
        "id": "k3sTfej99arO"
      },
      "source": [
        "## Task 3\n",
        "# Part 1\n",
        "\n",
        "For this implementation, I will use GloVe (Global Vectors for Word Representation) embeddings. Here's why:\n",
        "\n",
        "GloVe: GloVe is a widely used word embedding model that captures global statistics of word co-occurrence across a corpus. It is efficient, easy to use, and provides high-quality embeddings for a variety of NLP tasks.\n",
        "\n",
        "Comparison with Other Models:\n",
        "\n",
        "Word2Vec: Word2Vec is also popular, but it focuses on local context windows and may not capture global co-occurrence statistics as effectively as GloVe.\n",
        "\n",
        "FastText: FastText extends Word2Vec by incorporating subword information, which is useful for handling rare or misspelled words. However, it is computationally more expensive.\n",
        "\n",
        "BERT: BERT provides contextualized embeddings, which are more powerful but also more resource-intensive. For simple word-level tasks, GloVe is often sufficient and more efficient.\n",
        "\n",
        "GloVe strikes a balance between performance and computational efficiency, making it a good choice for this task.\n",
        "\n",
        "Handling Out-of-Vocabulary (OOV) Words\n",
        "If a word is out of vocabulary, we can handle it in the following ways:\n",
        "\n",
        "Suggestions for Approximating OOV Embeddings:\n",
        "\n",
        "Subword Information: Use FastText embeddings, which can generate embeddings for OOV words by averaging the embeddings of their subwords.\n",
        "\n",
        "Nearest Known Word: Find the nearest in-vocabulary word using character-level similarity (e.g., Levenshtein distance) and use its embedding.\n",
        "\n",
        "Zero Vector or Random Vector: Assign a zero vector or a random vector as the embedding, though this is less ideal.\n",
        "\n",
        "Contextualized Embeddings: Use a contextualized model like BERT to generate embeddings for OOV words dynamically.\n",
        "\n",
        "I have used the nearest known word to handle OOV words."
      ]
    },
    {
      "cell_type": "code",
      "execution_count": null,
      "metadata": {
        "id": "-tlaaOhY9arO"
      },
      "outputs": [],
      "source": [
        "import gensim\n",
        "import numpy\n",
        "import scipy\n",
        "import gensim.downloader as api"
      ]
    },
    {
      "cell_type": "code",
      "execution_count": null,
      "metadata": {
        "id": "d9RJJDbZ9arO",
        "outputId": "7cde4496-a325-46c1-c223-de035a175c44"
      },
      "outputs": [
        {
          "name": "stdout",
          "output_type": "stream",
          "text": [
            "[==================================================] 100.0% 958.5/958.4MB downloaded\n",
            "Model loaded successfully!\n"
          ]
        }
      ],
      "source": [
        "# Load the FastText model from Gensim's pre-trained models\n",
        "model = api.load('fasttext-wiki-news-subwords-300')  # 300-dimensional FastText vectors\n",
        "print(\"Model loaded successfully!\")"
      ]
    },
    {
      "cell_type": "code",
      "execution_count": null,
      "metadata": {
        "id": "uRRDkSjU9arO",
        "outputId": "ec48ccb8-426d-44c9-8081-a0baa1ce161c"
      },
      "outputs": [
        {
          "name": "stdout",
          "output_type": "stream",
          "text": [
            "{'corpora': {'semeval-2016-2017-task3-subtaskBC': {'num_records': -1, 'record_format': 'dict', 'file_size': 6344358, 'reader_code': 'https://github.com/RaRe-Technologies/gensim-data/releases/download/semeval-2016-2017-task3-subtaskB-eng/__init__.py', 'license': 'All files released for the task are free for general research use', 'fields': {'2016-train': ['...'], '2016-dev': ['...'], '2017-test': ['...'], '2016-test': ['...']}, 'description': 'SemEval 2016 / 2017 Task 3 Subtask B and C datasets contain train+development (317 original questions, 3,169 related questions, and 31,690 comments), and test datasets in English. The description of the tasks and the collected data is given in sections 3 and 4.1 of the task paper http://alt.qcri.org/semeval2016/task3/data/uploads/semeval2016-task3-report.pdf linked in section “Papers” of https://github.com/RaRe-Technologies/gensim-data/issues/18.', 'checksum': '701ea67acd82e75f95e1d8e62fb0ad29', 'file_name': 'semeval-2016-2017-task3-subtaskBC.gz', 'read_more': ['http://alt.qcri.org/semeval2017/task3/', 'http://alt.qcri.org/semeval2017/task3/data/uploads/semeval2017-task3.pdf', 'https://github.com/RaRe-Technologies/gensim-data/issues/18', 'https://github.com/Witiko/semeval-2016_2017-task3-subtaskB-english'], 'parts': 1}, 'semeval-2016-2017-task3-subtaskA-unannotated': {'num_records': 189941, 'record_format': 'dict', 'file_size': 234373151, 'reader_code': 'https://github.com/RaRe-Technologies/gensim-data/releases/download/semeval-2016-2017-task3-subtaskA-unannotated-eng/__init__.py', 'license': 'These datasets are free for general research use.', 'fields': {'THREAD_SEQUENCE': '', 'RelQuestion': {'RELQ_CATEGORY': 'question category, according to the Qatar Living taxonomy', 'RELQ_DATE': 'date of posting', 'RELQ_ID': 'question indentifier', 'RELQ_USERID': 'identifier of the user asking the question', 'RELQ_USERNAME': 'name of the user asking the question', 'RelQBody': 'body of question', 'RelQSubject': 'subject of question'}, 'RelComments': [{'RelCText': 'text of answer', 'RELC_USERID': 'identifier of the user posting the comment', 'RELC_ID': 'comment identifier', 'RELC_USERNAME': 'name of the user posting the comment', 'RELC_DATE': 'date of posting'}]}, 'description': 'SemEval 2016 / 2017 Task 3 Subtask A unannotated dataset contains 189,941 questions and 1,894,456 comments in English collected from the Community Question Answering (CQA) web forum of Qatar Living. These can be used as a corpus for language modelling.', 'checksum': '2de0e2f2c4f91c66ae4fcf58d50ba816', 'file_name': 'semeval-2016-2017-task3-subtaskA-unannotated.gz', 'read_more': ['http://alt.qcri.org/semeval2016/task3/', 'http://alt.qcri.org/semeval2016/task3/data/uploads/semeval2016-task3-report.pdf', 'https://github.com/RaRe-Technologies/gensim-data/issues/18', 'https://github.com/Witiko/semeval-2016_2017-task3-subtaskA-unannotated-english'], 'parts': 1}, 'patent-2017': {'num_records': 353197, 'record_format': 'dict', 'file_size': 3087262469, 'reader_code': 'https://github.com/RaRe-Technologies/gensim-data/releases/download/patent-2017/__init__.py', 'license': 'not found', 'description': \"Patent Grant Full Text. Contains the full text including tables, sequence data and 'in-line' mathematical expressions of each patent grant issued in 2017.\", 'checksum-0': '818501f0b9af62d3b88294d86d509f8f', 'checksum-1': '66c05635c1d3c7a19b4a335829d09ffa', 'file_name': 'patent-2017.gz', 'read_more': ['http://patents.reedtech.com/pgrbft.php'], 'parts': 2}, 'quora-duplicate-questions': {'num_records': 404290, 'record_format': 'dict', 'file_size': 21684784, 'reader_code': 'https://github.com/RaRe-Technologies/gensim-data/releases/download/quora-duplicate-questions/__init__.py', 'license': 'probably https://www.quora.com/about/tos', 'fields': {'question1': 'the full text of each question', 'question2': 'the full text of each question', 'qid1': 'unique ids of each question', 'qid2': 'unique ids of each question', 'id': 'the id of a training set question pair', 'is_duplicate': 'the target variable, set to 1 if question1 and question2 have essentially the same meaning, and 0 otherwise'}, 'description': 'Over 400,000 lines of potential question duplicate pairs. Each line contains IDs for each question in the pair, the full text for each question, and a binary value that indicates whether the line contains a duplicate pair or not.', 'checksum': 'd7cfa7fbc6e2ec71ab74c495586c6365', 'file_name': 'quora-duplicate-questions.gz', 'read_more': ['https://data.quora.com/First-Quora-Dataset-Release-Question-Pairs'], 'parts': 1}, 'wiki-english-20171001': {'num_records': 4924894, 'record_format': 'dict', 'file_size': 6516051717, 'reader_code': 'https://github.com/RaRe-Technologies/gensim-data/releases/download/wiki-english-20171001/__init__.py', 'license': 'https://dumps.wikimedia.org/legal.html', 'fields': {'section_texts': 'list of body of sections', 'section_titles': 'list of titles of sections', 'title': 'Title of wiki article'}, 'description': 'Extracted Wikipedia dump from October 2017. Produced by `python -m gensim.scripts.segment_wiki -f enwiki-20171001-pages-articles.xml.bz2 -o wiki-en.gz`', 'checksum-0': 'a7d7d7fd41ea7e2d7fa32ec1bb640d71', 'checksum-1': 'b2683e3356ffbca3b6c2dca6e9801f9f', 'checksum-2': 'c5cde2a9ae77b3c4ebce804f6df542c2', 'checksum-3': '00b71144ed5e3aeeb885de84f7452b81', 'file_name': 'wiki-english-20171001.gz', 'read_more': ['https://dumps.wikimedia.org/enwiki/20171001/'], 'parts': 4}, 'text8': {'num_records': 1701, 'record_format': 'list of str (tokens)', 'file_size': 33182058, 'reader_code': 'https://github.com/RaRe-Technologies/gensim-data/releases/download/text8/__init__.py', 'license': 'not found', 'description': 'First 100,000,000 bytes of plain text from Wikipedia. Used for testing purposes; see wiki-english-* for proper full Wikipedia datasets.', 'checksum': '68799af40b6bda07dfa47a32612e5364', 'file_name': 'text8.gz', 'read_more': ['http://mattmahoney.net/dc/textdata.html'], 'parts': 1}, 'fake-news': {'num_records': 12999, 'record_format': 'dict', 'file_size': 20102776, 'reader_code': 'https://github.com/RaRe-Technologies/gensim-data/releases/download/fake-news/__init__.py', 'license': 'https://creativecommons.org/publicdomain/zero/1.0/', 'fields': {'crawled': 'date the story was archived', 'ord_in_thread': '', 'published': 'date published', 'participants_count': 'number of participants', 'shares': 'number of Facebook shares', 'replies_count': 'number of replies', 'main_img_url': 'image from story', 'spam_score': 'data from webhose.io', 'uuid': 'unique identifier', 'language': 'data from webhose.io', 'title': 'title of story', 'country': 'data from webhose.io', 'domain_rank': 'data from webhose.io', 'author': 'author of story', 'comments': 'number of Facebook comments', 'site_url': 'site URL from BS detector', 'text': 'text of story', 'thread_title': '', 'type': 'type of website (label from BS detector)', 'likes': 'number of Facebook likes'}, 'description': \"News dataset, contains text and metadata from 244 websites and represents 12,999 posts in total from a specific window of 30 days. The data was pulled using the webhose.io API, and because it's coming from their crawler, not all websites identified by their BS Detector are present in this dataset. Data sources that were missing a label were simply assigned a label of 'bs'. There are (ostensibly) no genuine, reliable, or trustworthy news sources represented in this dataset (so far), so don't trust anything you read.\", 'checksum': '5e64e942df13219465927f92dcefd5fe', 'file_name': 'fake-news.gz', 'read_more': ['https://www.kaggle.com/mrisdal/fake-news'], 'parts': 1}, '20-newsgroups': {'num_records': 18846, 'record_format': 'dict', 'file_size': 14483581, 'reader_code': 'https://github.com/RaRe-Technologies/gensim-data/releases/download/20-newsgroups/__init__.py', 'license': 'not found', 'fields': {'topic': 'name of topic (20 variant of possible values)', 'set': \"marker of original split (possible values 'train' and 'test')\", 'data': '', 'id': 'original id inferred from folder name'}, 'description': 'The notorious collection of approximately 20,000 newsgroup posts, partitioned (nearly) evenly across 20 different newsgroups.', 'checksum': 'c92fd4f6640a86d5ba89eaad818a9891', 'file_name': '20-newsgroups.gz', 'read_more': ['http://qwone.com/~jason/20Newsgroups/'], 'parts': 1}, '__testing_matrix-synopsis': {'description': '[THIS IS ONLY FOR TESTING] Synopsis of the movie matrix.', 'checksum': '1767ac93a089b43899d54944b07d9dc5', 'file_name': '__testing_matrix-synopsis.gz', 'read_more': ['http://www.imdb.com/title/tt0133093/plotsummary?ref_=ttpl_pl_syn#synopsis'], 'parts': 1}, '__testing_multipart-matrix-synopsis': {'description': '[THIS IS ONLY FOR TESTING] Synopsis of the movie matrix.', 'checksum-0': 'c8b0c7d8cf562b1b632c262a173ac338', 'checksum-1': '5ff7fc6818e9a5d9bc1cf12c35ed8b96', 'checksum-2': '966db9d274d125beaac7987202076cba', 'file_name': '__testing_multipart-matrix-synopsis.gz', 'read_more': ['http://www.imdb.com/title/tt0133093/plotsummary?ref_=ttpl_pl_syn#synopsis'], 'parts': 3}}, 'models': {'fasttext-wiki-news-subwords-300': {'num_records': 999999, 'file_size': 1005007116, 'base_dataset': 'Wikipedia 2017, UMBC webbase corpus and statmt.org news dataset (16B tokens)', 'reader_code': 'https://github.com/RaRe-Technologies/gensim-data/releases/download/fasttext-wiki-news-subwords-300/__init__.py', 'license': 'https://creativecommons.org/licenses/by-sa/3.0/', 'parameters': {'dimension': 300}, 'description': '1 million word vectors trained on Wikipedia 2017, UMBC webbase corpus and statmt.org news dataset (16B tokens).', 'read_more': ['https://fasttext.cc/docs/en/english-vectors.html', 'https://arxiv.org/abs/1712.09405', 'https://arxiv.org/abs/1607.01759'], 'checksum': 'de2bb3a20c46ce65c9c131e1ad9a77af', 'file_name': 'fasttext-wiki-news-subwords-300.gz', 'parts': 1}, 'conceptnet-numberbatch-17-06-300': {'num_records': 1917247, 'file_size': 1225497562, 'base_dataset': 'ConceptNet, word2vec, GloVe, and OpenSubtitles 2016', 'reader_code': 'https://github.com/RaRe-Technologies/gensim-data/releases/download/conceptnet-numberbatch-17-06-300/__init__.py', 'license': 'https://github.com/commonsense/conceptnet-numberbatch/blob/master/LICENSE.txt', 'parameters': {'dimension': 300}, 'description': 'ConceptNet Numberbatch consists of state-of-the-art semantic vectors (also known as word embeddings) that can be used directly as a representation of word meanings or as a starting point for further machine learning. ConceptNet Numberbatch is part of the ConceptNet open data project. ConceptNet provides lots of ways to compute with word meanings, one of which is word embeddings. ConceptNet Numberbatch is a snapshot of just the word embeddings. It is built using an ensemble that combines data from ConceptNet, word2vec, GloVe, and OpenSubtitles 2016, using a variation on retrofitting.', 'read_more': ['http://aaai.org/ocs/index.php/AAAI/AAAI17/paper/view/14972', 'https://github.com/commonsense/conceptnet-numberbatch', 'http://conceptnet.io/'], 'checksum': 'fd642d457adcd0ea94da0cd21b150847', 'file_name': 'conceptnet-numberbatch-17-06-300.gz', 'parts': 1}, 'word2vec-ruscorpora-300': {'num_records': 184973, 'file_size': 208427381, 'base_dataset': 'Russian National Corpus (about 250M words)', 'reader_code': 'https://github.com/RaRe-Technologies/gensim-data/releases/download/word2vec-ruscorpora-300/__init__.py', 'license': 'https://creativecommons.org/licenses/by/4.0/deed.en', 'parameters': {'dimension': 300, 'window_size': 10}, 'description': 'Word2vec Continuous Skipgram vectors trained on full Russian National Corpus (about 250M words). The model contains 185K words.', 'preprocessing': 'The corpus was lemmatized and tagged with Universal PoS', 'read_more': ['https://www.academia.edu/24306935/WebVectors_a_Toolkit_for_Building_Web_Interfaces_for_Vector_Semantic_Models', 'http://rusvectores.org/en/', 'https://github.com/RaRe-Technologies/gensim-data/issues/3'], 'checksum': '9bdebdc8ae6d17d20839dd9b5af10bc4', 'file_name': 'word2vec-ruscorpora-300.gz', 'parts': 1}, 'word2vec-google-news-300': {'num_records': 3000000, 'file_size': 1743563840, 'base_dataset': 'Google News (about 100 billion words)', 'reader_code': 'https://github.com/RaRe-Technologies/gensim-data/releases/download/word2vec-google-news-300/__init__.py', 'license': 'not found', 'parameters': {'dimension': 300}, 'description': \"Pre-trained vectors trained on a part of the Google News dataset (about 100 billion words). The model contains 300-dimensional vectors for 3 million words and phrases. The phrases were obtained using a simple data-driven approach described in 'Distributed Representations of Words and Phrases and their Compositionality' (https://code.google.com/archive/p/word2vec/).\", 'read_more': ['https://code.google.com/archive/p/word2vec/', 'https://arxiv.org/abs/1301.3781', 'https://arxiv.org/abs/1310.4546', 'https://www.microsoft.com/en-us/research/publication/linguistic-regularities-in-continuous-space-word-representations/?from=http%3A%2F%2Fresearch.microsoft.com%2Fpubs%2F189726%2Frvecs.pdf'], 'checksum': 'a5e5354d40acb95f9ec66d5977d140ef', 'file_name': 'word2vec-google-news-300.gz', 'parts': 1}, 'glove-wiki-gigaword-50': {'num_records': 400000, 'file_size': 69182535, 'base_dataset': 'Wikipedia 2014 + Gigaword 5 (6B tokens, uncased)', 'reader_code': 'https://github.com/RaRe-Technologies/gensim-data/releases/download/glove-wiki-gigaword-50/__init__.py', 'license': 'http://opendatacommons.org/licenses/pddl/', 'parameters': {'dimension': 50}, 'description': 'Pre-trained vectors based on Wikipedia 2014 + Gigaword, 5.6B tokens, 400K vocab, uncased (https://nlp.stanford.edu/projects/glove/).', 'preprocessing': 'Converted to w2v format with `python -m gensim.scripts.glove2word2vec -i <fname> -o glove-wiki-gigaword-50.txt`.', 'read_more': ['https://nlp.stanford.edu/projects/glove/', 'https://nlp.stanford.edu/pubs/glove.pdf'], 'checksum': 'c289bc5d7f2f02c6dc9f2f9b67641813', 'file_name': 'glove-wiki-gigaword-50.gz', 'parts': 1}, 'glove-wiki-gigaword-100': {'num_records': 400000, 'file_size': 134300434, 'base_dataset': 'Wikipedia 2014 + Gigaword 5 (6B tokens, uncased)', 'reader_code': 'https://github.com/RaRe-Technologies/gensim-data/releases/download/glove-wiki-gigaword-100/__init__.py', 'license': 'http://opendatacommons.org/licenses/pddl/', 'parameters': {'dimension': 100}, 'description': 'Pre-trained vectors based on Wikipedia 2014 + Gigaword 5.6B tokens, 400K vocab, uncased (https://nlp.stanford.edu/projects/glove/).', 'preprocessing': 'Converted to w2v format with `python -m gensim.scripts.glove2word2vec -i <fname> -o glove-wiki-gigaword-100.txt`.', 'read_more': ['https://nlp.stanford.edu/projects/glove/', 'https://nlp.stanford.edu/pubs/glove.pdf'], 'checksum': '40ec481866001177b8cd4cb0df92924f', 'file_name': 'glove-wiki-gigaword-100.gz', 'parts': 1}, 'glove-wiki-gigaword-200': {'num_records': 400000, 'file_size': 264336934, 'base_dataset': 'Wikipedia 2014 + Gigaword 5 (6B tokens, uncased)', 'reader_code': 'https://github.com/RaRe-Technologies/gensim-data/releases/download/glove-wiki-gigaword-200/__init__.py', 'license': 'http://opendatacommons.org/licenses/pddl/', 'parameters': {'dimension': 200}, 'description': 'Pre-trained vectors based on Wikipedia 2014 + Gigaword, 5.6B tokens, 400K vocab, uncased (https://nlp.stanford.edu/projects/glove/).', 'preprocessing': 'Converted to w2v format with `python -m gensim.scripts.glove2word2vec -i <fname> -o glove-wiki-gigaword-200.txt`.', 'read_more': ['https://nlp.stanford.edu/projects/glove/', 'https://nlp.stanford.edu/pubs/glove.pdf'], 'checksum': '59652db361b7a87ee73834a6c391dfc1', 'file_name': 'glove-wiki-gigaword-200.gz', 'parts': 1}, 'glove-wiki-gigaword-300': {'num_records': 400000, 'file_size': 394362229, 'base_dataset': 'Wikipedia 2014 + Gigaword 5 (6B tokens, uncased)', 'reader_code': 'https://github.com/RaRe-Technologies/gensim-data/releases/download/glove-wiki-gigaword-300/__init__.py', 'license': 'http://opendatacommons.org/licenses/pddl/', 'parameters': {'dimension': 300}, 'description': 'Pre-trained vectors based on Wikipedia 2014 + Gigaword, 5.6B tokens, 400K vocab, uncased (https://nlp.stanford.edu/projects/glove/).', 'preprocessing': 'Converted to w2v format with `python -m gensim.scripts.glove2word2vec -i <fname> -o glove-wiki-gigaword-300.txt`.', 'read_more': ['https://nlp.stanford.edu/projects/glove/', 'https://nlp.stanford.edu/pubs/glove.pdf'], 'checksum': '29e9329ac2241937d55b852e8284e89b', 'file_name': 'glove-wiki-gigaword-300.gz', 'parts': 1}, 'glove-twitter-25': {'num_records': 1193514, 'file_size': 109885004, 'base_dataset': 'Twitter (2B tweets, 27B tokens, 1.2M vocab, uncased)', 'reader_code': 'https://github.com/RaRe-Technologies/gensim-data/releases/download/glove-twitter-25/__init__.py', 'license': 'http://opendatacommons.org/licenses/pddl/', 'parameters': {'dimension': 25}, 'description': 'Pre-trained vectors based on 2B tweets, 27B tokens, 1.2M vocab, uncased (https://nlp.stanford.edu/projects/glove/).', 'preprocessing': 'Converted to w2v format with `python -m gensim.scripts.glove2word2vec -i <fname> -o glove-twitter-25.txt`.', 'read_more': ['https://nlp.stanford.edu/projects/glove/', 'https://nlp.stanford.edu/pubs/glove.pdf'], 'checksum': '50db0211d7e7a2dcd362c6b774762793', 'file_name': 'glove-twitter-25.gz', 'parts': 1}, 'glove-twitter-50': {'num_records': 1193514, 'file_size': 209216938, 'base_dataset': 'Twitter (2B tweets, 27B tokens, 1.2M vocab, uncased)', 'reader_code': 'https://github.com/RaRe-Technologies/gensim-data/releases/download/glove-twitter-50/__init__.py', 'license': 'http://opendatacommons.org/licenses/pddl/', 'parameters': {'dimension': 50}, 'description': 'Pre-trained vectors based on 2B tweets, 27B tokens, 1.2M vocab, uncased (https://nlp.stanford.edu/projects/glove/)', 'preprocessing': 'Converted to w2v format with `python -m gensim.scripts.glove2word2vec -i <fname> -o glove-twitter-50.txt`.', 'read_more': ['https://nlp.stanford.edu/projects/glove/', 'https://nlp.stanford.edu/pubs/glove.pdf'], 'checksum': 'c168f18641f8c8a00fe30984c4799b2b', 'file_name': 'glove-twitter-50.gz', 'parts': 1}, 'glove-twitter-100': {'num_records': 1193514, 'file_size': 405932991, 'base_dataset': 'Twitter (2B tweets, 27B tokens, 1.2M vocab, uncased)', 'reader_code': 'https://github.com/RaRe-Technologies/gensim-data/releases/download/glove-twitter-100/__init__.py', 'license': 'http://opendatacommons.org/licenses/pddl/', 'parameters': {'dimension': 100}, 'description': 'Pre-trained vectors based on  2B tweets, 27B tokens, 1.2M vocab, uncased (https://nlp.stanford.edu/projects/glove/)', 'preprocessing': 'Converted to w2v format with `python -m gensim.scripts.glove2word2vec -i <fname> -o glove-twitter-100.txt`.', 'read_more': ['https://nlp.stanford.edu/projects/glove/', 'https://nlp.stanford.edu/pubs/glove.pdf'], 'checksum': 'b04f7bed38756d64cf55b58ce7e97b15', 'file_name': 'glove-twitter-100.gz', 'parts': 1}, 'glove-twitter-200': {'num_records': 1193514, 'file_size': 795373100, 'base_dataset': 'Twitter (2B tweets, 27B tokens, 1.2M vocab, uncased)', 'reader_code': 'https://github.com/RaRe-Technologies/gensim-data/releases/download/glove-twitter-200/__init__.py', 'license': 'http://opendatacommons.org/licenses/pddl/', 'parameters': {'dimension': 200}, 'description': 'Pre-trained vectors based on 2B tweets, 27B tokens, 1.2M vocab, uncased (https://nlp.stanford.edu/projects/glove/).', 'preprocessing': 'Converted to w2v format with `python -m gensim.scripts.glove2word2vec -i <fname> -o glove-twitter-200.txt`.', 'read_more': ['https://nlp.stanford.edu/projects/glove/', 'https://nlp.stanford.edu/pubs/glove.pdf'], 'checksum': 'e52e8392d1860b95d5308a525817d8f9', 'file_name': 'glove-twitter-200.gz', 'parts': 1}, '__testing_word2vec-matrix-synopsis': {'description': '[THIS IS ONLY FOR TESTING] Word vecrors of the movie matrix.', 'parameters': {'dimensions': 50}, 'preprocessing': 'Converted to w2v using a preprocessed corpus. Converted to w2v format with `python3.5 -m gensim.models.word2vec -train <input_filename> -iter 50 -output <output_filename>`.', 'read_more': [], 'checksum': '534dcb8b56a360977a269b7bfc62d124', 'file_name': '__testing_word2vec-matrix-synopsis.gz', 'parts': 1}}}\n"
          ]
        }
      ],
      "source": [
        "info = api.info()  # Get information about available models/datasets\n",
        "print(info)"
      ]
    },
    {
      "cell_type": "code",
      "execution_count": null,
      "metadata": {
        "id": "roHZQbcF9arP",
        "outputId": "fa8d3f48-29e3-41d8-ddcd-fc4a4ce12b3e"
      },
      "outputs": [
        {
          "name": "stdout",
          "output_type": "stream",
          "text": [
            "'racemix' is out of vocabulary (OOV). Using subword approximation.\n",
            "Embedding for 'life':\n",
            "[ 0.0031941 -0.1289     0.11445   -0.009161  -0.0059675  0.0042326\n",
            " -0.0335    -0.12365    0.17044    0.039937   0.053347  -0.094224\n",
            "  0.022911  -0.048023  -0.035388  -0.067587   0.17104    0.047225\n",
            "  0.064031   0.082609 ]...\n",
            "Embedding for 'racemix':\n",
            "[0. 0. 0. 0. 0. 0. 0. 0. 0. 0. 0. 0. 0. 0. 0. 0. 0. 0. 0. 0.]...\n"
          ]
        }
      ],
      "source": [
        "# Function to get embeddings for two words\n",
        "def get_word_embeddings(word1, word2, model):\n",
        "    embeddings = {}\n",
        "\n",
        "    # Handle Out-of-Vocabulary (OOV) words with FastText's subword approach\n",
        "    for word in [word1, word2]:\n",
        "        if word in model:\n",
        "            embeddings[word] = model[word]\n",
        "        else:\n",
        "            print(f\"'{word}' is out of vocabulary (OOV). Using subword approximation.\")\n",
        "            embeddings[word] = model.get_mean_vector(word.split())\n",
        "\n",
        "    return embeddings\n",
        "\n",
        "# Dynamic input\n",
        "word1 = input(\"Enter the first word: \").strip().lower()\n",
        "word2 = input(\"Enter the second word: \").strip().lower()\n",
        "\n",
        "# Retrieve embeddings\n",
        "embeddings = get_word_embeddings(word1, word2, model)\n",
        "\n",
        "# Display the embeddings\n",
        "for word, vector in embeddings.items():\n",
        "    print(f\"Embedding for '{word}':\\n{vector[:20]}...\")  # Show only the first 10 elements\n"
      ]
    },
    {
      "cell_type": "code",
      "execution_count": null,
      "metadata": {
        "id": "RQ4SskPO9arP",
        "outputId": "267437c9-2ed7-4b57-80f2-3131b0e60433"
      },
      "outputs": [
        {
          "name": "stdout",
          "output_type": "stream",
          "text": [
            "Loading GloVe embeddings...\n",
            "[==================================================] 100.0% 376.1/376.1MB downloaded\n",
            "Embeddings loaded successfully!\n",
            "'racemix' is out of vocabulary (OOV). Using embedding of the closest word: 'racemic'.\n",
            "Embedding for 'racemix': [ 6.6762e-01  7.9302e-01  4.0362e-01  1.7990e-01 -3.6301e-01 -2.6572e-01\n",
            "  4.2567e-01 -3.6863e-01  9.9625e-02  4.9451e-01 -3.3486e-01 -3.8109e-01\n",
            "  1.2136e-01 -5.9690e-01 -1.0284e-01 -3.9407e-01 -3.9288e-01  8.1703e-01\n",
            "  5.4415e-01 -7.4519e-01 -1.0255e+00 -5.7632e-01 -6.8777e-01  6.3336e-01\n",
            " -4.5257e-01  3.5682e-01 -6.1820e-01 -4.4123e-01  9.6865e-02 -4.9268e-01\n",
            "  9.2701e-02 -6.2511e-01  1.1914e-01 -3.4779e-01  4.7255e-01  6.1043e-01\n",
            " -1.7643e-01  1.1841e-01 -3.7935e-01  7.9364e-01 -5.6168e-01 -1.0982e-01\n",
            " -4.1363e-02  1.7545e-01  1.8031e-01 -2.9678e-01 -5.2895e-02  1.3565e-01\n",
            "  5.5290e-01  9.0749e-01 -4.9755e-02  9.1462e-02 -1.9312e-01  5.0323e-01\n",
            " -4.2277e-01 -6.4105e-02  5.7548e-01 -7.3112e-01 -3.2670e-01 -2.8279e-01\n",
            " -1.8907e-01  2.2779e-01  4.4343e-01 -3.8100e-01  2.4424e-01  3.2592e-01\n",
            "  5.7976e-02 -2.3898e-01  4.2273e-01  1.6508e-02 -3.5153e-01 -6.1590e-01\n",
            "  8.0520e-02 -8.0609e-01 -3.8857e-01  3.2093e-01  2.4022e-02 -1.6171e-01\n",
            " -1.2814e-01  3.9982e-02 -2.0081e-01 -1.5401e-02 -8.8408e-02  1.1159e-01\n",
            "  3.2680e-01 -5.5601e-01  2.2308e-01  5.9500e-01 -1.8667e-01  2.5597e-02\n",
            " -5.9190e-01 -8.5830e-01  8.7440e-02  6.2727e-01 -2.1761e-01 -2.0277e-01\n",
            "  4.9699e-01  6.0229e-01  7.2220e-02  7.0245e-01 -3.5917e-01 -9.2948e-02\n",
            " -6.5353e-01  5.4921e-02 -4.4939e-02  5.5935e-01 -2.9838e-02  3.5634e-02\n",
            " -2.4282e-01 -2.7685e-01 -1.8699e-01  7.3834e-01  1.2167e-01  5.6970e-01\n",
            " -3.3525e-01  5.9457e-01  8.0444e-03  8.7825e-01  4.0155e-01 -5.2950e-03\n",
            "  4.7569e-01 -4.3158e-01  3.9779e-03 -2.6973e-01 -1.9218e-01 -3.7592e-01\n",
            "  1.6576e-01  1.9469e-01  4.4462e-02  7.3437e-01  2.7114e-01 -6.1683e-02\n",
            " -1.8886e-01  1.1988e+00 -6.8919e-01 -1.1321e-01 -2.0368e-01 -4.8388e-01\n",
            "  5.0445e-01 -7.4668e-01 -2.9284e-01 -2.3520e-01 -1.0919e+00 -5.1921e-01\n",
            "  7.7438e-01  2.2644e-02 -6.8298e-01  8.6751e-01  4.5646e-01  1.5860e-01\n",
            " -7.1425e-01 -5.2044e-01  1.9498e-01  2.8116e-01 -1.3568e-01  1.4028e-02\n",
            " -6.9771e-02 -8.5594e-02  2.4712e-01  1.1782e-01 -3.5531e-01 -4.3849e-02\n",
            " -7.2055e-02  2.1722e-01 -5.1041e-01 -2.6243e-01 -4.0401e-02  4.0912e-02\n",
            "  5.2038e-01 -6.1314e-01  6.6016e-01  4.1015e-02  6.5383e-01  3.0522e-01\n",
            " -6.8988e-02  1.4287e-01 -9.3658e-01 -5.1140e-01 -3.3959e-01 -9.0329e-02\n",
            "  2.6759e-02 -6.5114e-01 -2.5618e-01  6.6283e-01  3.0038e-01 -2.9680e-01\n",
            " -2.6180e-01 -3.6483e-01 -1.9714e-01  5.4272e-01 -3.6867e-01 -2.3091e-01\n",
            "  4.8789e-01  8.8238e-01 -6.9757e-02 -7.9849e-01 -3.9964e-01  5.9606e-02\n",
            "  4.4666e-01  1.4138e-01 -9.5133e-01 -8.6816e-01  6.7137e-01  1.0304e-01\n",
            "  6.3719e-02  2.8593e-01 -7.2815e-01  2.1528e-01 -5.0862e-01  3.2109e-01\n",
            "  2.1576e-01  8.1999e-01 -3.0207e-01  4.0173e-01 -7.9419e-01  2.9558e-01\n",
            " -3.7614e-02 -9.9570e-01  3.6091e-01  1.4279e-01 -2.2791e-01  3.3748e-01\n",
            " -4.7329e-01 -1.6423e-01  3.6781e-02  2.9890e-01  7.2756e-01  5.9515e-01\n",
            "  2.7280e-01 -1.1561e-01 -1.6914e-01  3.4435e-05  9.0128e-02 -8.5723e-02\n",
            "  4.9390e-01 -5.4381e-02  6.0019e-01  5.2682e-02  9.3581e-02  8.7829e-01\n",
            "  3.7059e-01 -3.3219e-01 -5.8892e-01  2.3298e-01  5.3789e-02  4.8167e-01\n",
            "  7.7957e-01  4.4071e-01  6.8177e-01 -1.1666e-01 -4.9529e-02 -3.5998e-01\n",
            " -2.6246e-01  5.7758e-02 -1.0207e+00  1.9803e-01 -5.1503e-01  4.5838e-01\n",
            "  2.0276e-01  4.7153e-01  4.5884e-01  5.9350e-01 -3.2512e-01  2.9816e-02\n",
            "  3.0229e-02 -8.3366e-01  2.4774e-02 -2.9247e-02  1.0805e+00  1.7421e-01\n",
            " -2.8936e-01 -4.6550e-01 -5.5144e-01  3.0652e-01  4.6550e-01 -2.4674e-02\n",
            "  8.9923e-01  3.5244e-01 -5.2531e-01  3.0541e-01  5.5018e-01 -6.5773e-02\n",
            " -9.0669e-02  3.4366e-01  3.3081e-01 -2.0204e-01 -1.5305e-01  5.7984e-02\n",
            "  4.5618e-01 -8.6876e-02 -1.2680e-01 -2.5297e-01  7.1352e-01 -3.2400e-01\n",
            "  4.9089e-01 -8.2351e-01  1.4676e-01 -1.0068e-01 -1.6403e-01 -9.2682e-01]\n",
            "Embedding for 'life': [-2.4822e-02 -2.9776e-01 -6.0229e-02  3.9525e-02  1.3413e-01 -9.6184e-02\n",
            " -3.8584e-01 -5.4961e-01 -6.2817e-02 -1.8214e+00  3.9562e-01 -3.3809e-01\n",
            " -1.1918e-01  2.0735e-02 -2.5394e-01 -4.6648e-01  3.3646e-01  8.8628e-02\n",
            " -3.0060e-01  2.2770e-01  8.5318e-03  7.3689e-01 -1.6885e-03  5.1768e-01\n",
            "  2.0813e-01 -1.6449e-01  1.3262e-01 -1.4074e-02 -1.5649e-01  3.8932e-01\n",
            " -1.6835e-03  8.9712e-01 -4.0919e-01 -1.4001e-01 -4.7357e-01  3.7032e-01\n",
            "  8.5212e-02 -1.8134e-01 -8.4587e-02 -1.0643e-01  4.0891e-01 -3.7302e-01\n",
            " -1.9214e-01 -2.3289e-01  1.6387e-01 -8.4336e-03  5.6154e-02  7.6983e-01\n",
            "  5.1190e-02  7.6763e-02 -3.2972e-01  9.0712e-02  2.3966e-01  1.4636e-01\n",
            "  1.3099e-01  1.0438e-01  2.8683e-01  5.1015e-02  2.8273e-01 -4.2733e-01\n",
            "  2.5711e-01 -9.6127e-02  4.6593e-01 -2.2626e-01  1.2047e-01 -1.0039e-01\n",
            " -1.3976e-01  1.7800e-02  8.7813e-02 -9.6296e-02  8.8527e-02 -3.9492e-01\n",
            " -5.9289e-02  4.7939e-01  1.8644e-01  3.6381e-01 -2.6816e-01 -4.2931e-02\n",
            " -3.3290e-01  6.3847e-02 -4.9535e-02  1.5045e-01  7.9372e-02  4.5697e-01\n",
            " -4.8044e-01  7.7371e-02  3.7922e-01  2.9798e-01 -1.7952e-01  3.8222e-01\n",
            " -3.8546e-01 -1.4980e-01 -2.9970e-01  7.4077e-02 -3.1080e-02  4.1334e-03\n",
            "  1.2209e-01  5.1104e-02  1.0362e-01 -8.7417e-01  9.7763e-02  5.8275e-01\n",
            "  1.9591e-02  3.2962e-01  6.3222e-02  2.1825e-01  5.2360e-01 -1.4255e-01\n",
            "  1.4037e-01  6.4463e-03 -4.3370e-01 -6.0941e-02  2.7056e-01 -4.4471e-01\n",
            "  3.8529e-01  4.6096e-01  4.6109e-01 -1.4727e-01  9.8707e-02 -1.8529e-02\n",
            " -2.8910e-01  1.4400e-01  9.6427e-02  5.0338e-01  8.2643e-04 -3.8095e-01\n",
            "  9.8032e-02 -1.8401e-03 -2.7964e-01  3.7048e-01  2.3525e-01 -1.0075e-01\n",
            "  7.9492e-02 -1.7097e-01  2.4223e-01 -5.3691e-01 -1.2258e-01 -2.3296e-01\n",
            " -3.0153e-01  3.4860e-01  1.8997e-01  3.0793e-01  2.5494e-01  7.9209e-01\n",
            " -1.0122e-01 -2.1784e-01 -1.1952e-01  1.6844e-01 -2.9252e-01  2.1885e-01\n",
            " -2.7805e-01 -6.8201e-01 -6.3642e-02  1.3110e-01  4.4783e-01 -1.4875e-01\n",
            " -1.5947e-01  1.9952e-01  4.0878e-01 -2.6941e-01  1.8461e-01 -1.8493e-01\n",
            "  2.5694e-01  3.4841e-02 -4.7863e-01  1.6505e-01  1.4608e-01 -6.1080e-02\n",
            " -6.9806e-02  2.0340e-01  2.1232e-01 -5.7076e-02 -1.2414e+00  3.8565e-01\n",
            "  3.6981e-02  2.6084e-03  2.2314e-01 -1.3772e-01 -7.1702e-03  5.5757e-01\n",
            "  1.3853e-01  1.3341e-01  7.5362e-02  1.7645e-01 -1.7165e-01 -3.3126e-02\n",
            " -1.0527e-02 -4.1109e-02 -1.2370e-01 -6.3908e-02  1.0593e-01 -1.0894e-02\n",
            " -2.3471e-01 -4.1605e-01 -4.4512e-01  4.7683e-02 -5.6138e-02 -1.9698e-01\n",
            " -2.6298e-02 -1.1572e-01  1.3506e+00  3.8471e-02  2.2200e-01  5.3531e-01\n",
            "  2.5596e-01 -8.7623e-02  1.3122e-01  1.3254e-01 -2.9411e-01  5.7519e-02\n",
            " -1.8824e-01 -3.1947e-01 -4.7484e-01 -1.0953e-01  3.9016e-01  6.7629e-01\n",
            "  9.3658e-02  3.1890e-01  3.5608e-01  1.5627e-01 -1.2927e-01  4.2266e-01\n",
            " -3.8433e-01  3.0401e-01  8.0594e-02  2.3876e-01  6.8034e-03 -4.0054e-01\n",
            "  4.1036e-01 -9.6369e-03 -6.3919e-02 -3.4848e-03  1.0717e-01 -4.7690e-01\n",
            " -1.2883e-01  1.7084e-01 -4.7021e-02 -1.0984e-01 -2.5208e-01  3.1416e-01\n",
            " -1.7289e-01 -8.1249e-02  2.8297e-01  4.2709e-01 -1.1463e+00 -6.4341e-03\n",
            "  3.1812e-02  1.0726e-01 -3.2214e-01  2.0892e-01 -1.0019e-01 -3.0702e-02\n",
            "  6.1733e-01 -1.4617e-01  8.7860e-01  2.3990e-01  3.3901e-01 -2.1574e-01\n",
            "  4.6252e-01 -2.1542e-01  8.7410e-02 -6.0555e-01  1.4763e-01 -3.5191e-01\n",
            "  1.3818e-01  4.3474e-01 -1.9529e-01 -1.0215e-01  3.5733e-02  4.0812e-01\n",
            "  3.3932e-02  3.7529e-01  5.1894e-01  3.4525e-01  3.6249e-01  1.6388e-01\n",
            " -1.7878e+00 -3.4627e-01  3.4347e-01 -1.6499e-01 -4.4255e-01  2.7366e-03\n",
            " -3.2776e-02 -9.3153e-02 -8.2704e-02  3.0581e-01 -2.4044e-01  6.3194e-01\n",
            "  1.3807e-01 -1.8991e-01 -1.9721e-01 -8.8222e-02  2.7810e-01 -5.8105e-01\n",
            "  1.2038e-01  8.0661e-02  5.3571e-02  4.8295e-01 -4.0196e-01  1.2834e-02]\n"
          ]
        }
      ],
      "source": [
        "import numpy as np\n",
        "import gensim.downloader as api\n",
        "from Levenshtein import distance as levenshtein_distance\n",
        "\n",
        "# Load GloVe embeddings using Gensim API\n",
        "def load_glove_embeddings():\n",
        "    print(\"Loading GloVe embeddings...\")\n",
        "    word_vectors = api.load('glove-wiki-gigaword-300')  # 300-dimensional GloVe vectors\n",
        "    print(\"Embeddings loaded successfully!\")\n",
        "    return word_vectors\n",
        "\n",
        "# Approximate embedding for OOV words\n",
        "def approximate_embedding(word, word_vectors):\n",
        "    # Find the closest in-vocabulary word using Levenshtein distance\n",
        "    closest_word = min(word_vectors.index_to_key, key=lambda x: levenshtein_distance(word, x))\n",
        "    print(f\"'{word}' is out of vocabulary (OOV). Using embedding of the closest word: '{closest_word}'.\")\n",
        "    return word_vectors[closest_word]\n",
        "\n",
        "# Get embeddings for two words\n",
        "def get_word_embeddings(word1, word2, word_vectors):\n",
        "    try:\n",
        "        embedding1 = word_vectors[word1]\n",
        "    except KeyError:\n",
        "        embedding1 = approximate_embedding(word1, word_vectors)\n",
        "    try:\n",
        "        embedding2 = word_vectors[word2]\n",
        "    except KeyError:\n",
        "        embedding2 = approximate_embedding(word2, word_vectors)\n",
        "    print(f\"Embedding for '{word1}': {embedding1}\")\n",
        "    print(f\"Embedding for '{word2}': {embedding2}\")\n",
        "\n",
        "# Main program\n",
        "if __name__ == \"__main__\":\n",
        "    # Load embeddings using Gensim API\n",
        "    word_vectors = load_glove_embeddings()\n",
        "\n",
        "    # Get user input\n",
        "    word1 = input(\"Enter the first word: \").strip().lower()\n",
        "    word2 = input(\"Enter the second word: \").strip().lower()\n",
        "\n",
        "    # Get and display embeddings\n",
        "    get_word_embeddings(word1, word2, word_vectors)"
      ]
    },
    {
      "cell_type": "code",
      "execution_count": null,
      "metadata": {
        "id": "FFGyv9639ara",
        "outputId": "056d8b8d-b63b-44ed-990f-a0cd0dff6d6f"
      },
      "outputs": [
        {
          "name": "stdout",
          "output_type": "stream",
          "text": [
            "Loading GloVe embeddings...\n",
            "Embeddings loaded successfully!\n",
            "'jupyter' is OOV. Using nearest known word: 'jupiter'.\n",
            "Cosine similarity between 'king' and 'queen': 0.6336\n",
            "Cosine similarity between 'man' and 'woman': 0.6999\n",
            "Cosine similarity between 'paris' and 'france': 0.6581\n",
            "Cosine similarity between 'jupyter' and 'notebook': 0.0760\n",
            "'jupyter' is OOV. Using nearest known word: 'jupiter'.\n"
          ]
        },
        {
          "data": {
            "image/png": "[encoded data removed]",
            "text/plain": [
              "<Figure size 1000x800 with 1 Axes>"
            ]
          },
          "metadata": {},
          "output_type": "display_data"
        }
      ],
      "source": [
        "import numpy as np\n",
        "import gensim.downloader as api\n",
        "from sklearn.decomposition import PCA\n",
        "from sklearn.manifold import TSNE\n",
        "import matplotlib.pyplot as plt\n",
        "from Levenshtein import distance as levenshtein_distance\n",
        "\n",
        "# Cosine similarity function\n",
        "def cosine_similarity(vec1, vec2):\n",
        "    \"\"\"Compute cosine similarity between two vectors.\"\"\"\n",
        "    dot_product = np.dot(vec1, vec2)\n",
        "    norm1 = np.linalg.norm(vec1)\n",
        "    norm2 = np.linalg.norm(vec2)\n",
        "    return dot_product / (norm1 * norm2)\n",
        "# Find nearest known word for OOV words\n",
        "def find_nearest_word(oov_word, word_vectors):\n",
        "    \"\"\"Find the nearest known word for an OOV word using Levenshtein distance.\"\"\"\n",
        "    nearest_word = min(word_vectors.index_to_key, key=lambda x: levenshtein_distance(oov_word, x))\n",
        "    return nearest_word\n",
        "\n",
        "# Batch cosine similarity function with OOV handling\n",
        "def batch_cosine_similarity(word_pairs, word_vectors):\n",
        "    \"\"\"Compute cosine similarity for multiple word pairs, handling OOV words.\"\"\"\n",
        "    similarities = []\n",
        "    for word1, word2 in word_pairs:\n",
        "        # Handle OOV for word1\n",
        "        if word1 not in word_vectors:\n",
        "            nearest_word1 = find_nearest_word(word1, word_vectors)\n",
        "            print(f\"'{word1}' is OOV. Using nearest known word: '{nearest_word1}'.\")\n",
        "            vec1 = word_vectors[nearest_word1]\n",
        "        else:\n",
        "            vec1 = word_vectors[word1]\n",
        "\n",
        "        # Handle OOV for word2\n",
        "        if word2 not in word_vectors:\n",
        "            nearest_word2 = find_nearest_word(word2, word_vectors)\n",
        "            print(f\"'{word2}' is OOV. Using nearest known word: '{nearest_word2}'.\")\n",
        "            vec2 = word_vectors[nearest_word2]\n",
        "        else:\n",
        "            vec2 = word_vectors[word2]\n",
        "\n",
        "        # Compute cosine similarity\n",
        "        sim = cosine_similarity(vec1, vec2)\n",
        "        similarities.append((word1, word2, sim))\n",
        "    return similarities\n",
        "\n",
        "# Visualization function with OOV handling\n",
        "def visualize_embeddings(words, word_vectors, method='pca'):\n",
        "    \"\"\"Visualize word embeddings in 2D using PCA or t-SNE, handling OOV words.\"\"\"\n",
        "    valid_words = []\n",
        "    embeddings = []\n",
        "\n",
        "    for word in words:\n",
        "        if word in word_vectors:\n",
        "            valid_words.append(word)\n",
        "            embeddings.append(word_vectors[word])\n",
        "        else:\n",
        "            nearest_word = find_nearest_word(word, word_vectors)\n",
        "            print(f\"'{word}' is OOV. Using nearest known word: '{nearest_word}'.\")\n",
        "            valid_words.append(nearest_word)\n",
        "            embeddings.append(word_vectors[nearest_word])\n",
        "\n",
        "    embeddings = np.array(embeddings)\n",
        "\n",
        "    # Reduce dimensionality\n",
        "    if method == 'pca':\n",
        "        reducer = PCA(n_components=2)\n",
        "    elif method == 'tsne':\n",
        "        reducer = TSNE(n_components=2, random_state=42)\n",
        "    else:\n",
        "        raise ValueError(\"Method must be 'pca' or 'tsne'.\")\n",
        "\n",
        "    reduced_embeddings = reducer.fit_transform(embeddings)\n",
        "\n",
        "    # Plot\n",
        "    plt.figure(figsize=(10, 8))\n",
        "    plt.scatter(reduced_embeddings[:, 0], reduced_embeddings[:, 1], color='blue')\n",
        "    for i, word in enumerate(valid_words):\n",
        "        plt.annotate(word, (reduced_embeddings[i, 0], reduced_embeddings[i, 1]))\n",
        "    plt.title(f\"Word Embeddings Visualization ({method.upper()})\")\n",
        "    plt.xlabel(\"Component 1\")\n",
        "    plt.ylabel(\"Component 2\")\n",
        "    plt.show()\n",
        "\n",
        "# Main program\n",
        "if __name__ == \"__main__\":\n",
        "    # Load embeddings\n",
        "    word_vectors = load_glove_embeddings()\n",
        "\n",
        "    # Batch cosine similarity\n",
        "    word_pairs = [(\"king\", \"queen\"), (\"man\", \"woman\"), (\"paris\", \"france\"), (\"jupyter\", \"notebook\")]\n",
        "    similarities = batch_cosine_similarity(word_pairs, word_vectors)\n",
        "    for word1, word2, sim in similarities:\n",
        "        print(f\"Cosine similarity between '{word1}' and '{word2}': {sim:.4f}\")\n",
        "\n",
        "    # Visualization\n",
        "    words = [\"king\", \"queen\", \"man\", \"woman\", \"paris\", \"france\", \"jupyter\", \"notebook\"]\n",
        "    visualize_embeddings(words, word_vectors, method='pca')  # Use 'tsne' for t-SNE"
      ]
    },
    {
      "cell_type": "code",
      "execution_count": null,
      "metadata": {
        "id": "_RQbAm0S9ara",
        "outputId": "6e546bee-a177-49e8-c5e2-897d8a7cd279"
      },
      "outputs": [
        {
          "name": "stdout",
          "output_type": "stream",
          "text": [
            "Collecting seaborn\n",
            "  Downloading seaborn-0.13.2-py3-none-any.whl.metadata (5.4 kB)\n",
            "Requirement already satisfied: numpy!=1.24.0,>=1.20 in /home/kazeej/anaconda3/envs/RNN/lib/python3.11/site-packages (from seaborn) (1.26.4)\n",
            "Requirement already satisfied: pandas>=1.2 in /home/kazeej/anaconda3/envs/RNN/lib/python3.11/site-packages (from seaborn) (2.2.3)\n",
            "Requirement already satisfied: matplotlib!=3.6.1,>=3.4 in /home/kazeej/anaconda3/envs/RNN/lib/python3.11/site-packages (from seaborn) (3.10.0)\n",
            "Requirement already satisfied: contourpy>=1.0.1 in /home/kazeej/anaconda3/envs/RNN/lib/python3.11/site-packages (from matplotlib!=3.6.1,>=3.4->seaborn) (1.3.1)\n",
            "Requirement already satisfied: cycler>=0.10 in /home/kazeej/anaconda3/envs/RNN/lib/python3.11/site-packages (from matplotlib!=3.6.1,>=3.4->seaborn) (0.12.1)\n",
            "Requirement already satisfied: fonttools>=4.22.0 in /home/kazeej/anaconda3/envs/RNN/lib/python3.11/site-packages (from matplotlib!=3.6.1,>=3.4->seaborn) (4.56.0)\n",
            "Requirement already satisfied: kiwisolver>=1.3.1 in /home/kazeej/anaconda3/envs/RNN/lib/python3.11/site-packages (from matplotlib!=3.6.1,>=3.4->seaborn) (1.4.7)\n",
            "Requirement already satisfied: packaging>=20.0 in /home/kazeej/anaconda3/envs/RNN/lib/python3.11/site-packages (from matplotlib!=3.6.1,>=3.4->seaborn) (24.2)\n",
            "Requirement already satisfied: pillow>=8 in /home/kazeej/anaconda3/envs/RNN/lib/python3.11/site-packages (from matplotlib!=3.6.1,>=3.4->seaborn) (11.1.0)\n",
            "Requirement already satisfied: pyparsing>=2.3.1 in /home/kazeej/anaconda3/envs/RNN/lib/python3.11/site-packages (from matplotlib!=3.6.1,>=3.4->seaborn) (3.2.1)\n",
            "Requirement already satisfied: python-dateutil>=2.7 in /home/kazeej/anaconda3/envs/RNN/lib/python3.11/site-packages (from matplotlib!=3.6.1,>=3.4->seaborn) (2.9.0.post0)\n",
            "Requirement already satisfied: pytz>=2020.1 in /home/kazeej/anaconda3/envs/RNN/lib/python3.11/site-packages (from pandas>=1.2->seaborn) (2024.1)\n",
            "Requirement already satisfied: tzdata>=2022.7 in /home/kazeej/anaconda3/envs/RNN/lib/python3.11/site-packages (from pandas>=1.2->seaborn) (2025.1)\n",
            "Requirement already satisfied: six>=1.5 in /home/kazeej/anaconda3/envs/RNN/lib/python3.11/site-packages (from python-dateutil>=2.7->matplotlib!=3.6.1,>=3.4->seaborn) (1.17.0)\n",
            "Downloading seaborn-0.13.2-py3-none-any.whl (294 kB)\n",
            "Installing collected packages: seaborn\n",
            "Successfully installed seaborn-0.13.2\n"
          ]
        }
      ],
      "source": [
        "!pip install seaborn"
      ]
    },
    {
      "cell_type": "code",
      "execution_count": null,
      "metadata": {
        "id": "OfEpgNWy9ara",
        "outputId": "1b39aad8-a18d-426e-a756-856764de75d2"
      },
      "outputs": [
        {
          "data": {
            "image/png": "[encoded data removed]",
            "text/plain": [
              "<Figure size 1000x600 with 1 Axes>"
            ]
          },
          "metadata": {},
          "output_type": "display_data"
        },
        {
          "data": {
            "image/png": "[encoded data removed]",
            "text/plain": [
              "<Figure size 800x600 with 2 Axes>"
            ]
          },
          "metadata": {},
          "output_type": "display_data"
        },
        {
          "data": {
            "image/png": "[encoded data removed]",
            "text/plain": [
              "<Figure size 800x600 with 2 Axes>"
            ]
          },
          "metadata": {},
          "output_type": "display_data"
        }
      ],
      "source": [
        "import numpy as np\n",
        "import gensim.downloader as api\n",
        "import matplotlib.pyplot as plt\n",
        "import seaborn as sns\n",
        "\n",
        "# Cosine similarity function\n",
        "def cosine_similarity(vec1, vec2):\n",
        "    \"\"\"Compute cosine similarity between two vectors.\"\"\"\n",
        "    dot_product = np.dot(vec1, vec2)\n",
        "    norm1 = np.linalg.norm(vec1)\n",
        "    norm2 = np.linalg.norm(vec2)\n",
        "    return dot_product / (norm1 * norm2)\n",
        "\n",
        "# Euclidean distance function\n",
        "def euclidean_distance(vec1, vec2):\n",
        "    \"\"\"Compute Euclidean distance between two vectors.\"\"\"\n",
        "    return np.linalg.norm(vec1 - vec2)\n",
        "\n",
        "# Custom dissimilarity function\n",
        "def custom_dissimilarity(vec1, vec2, alpha=0.1):\n",
        "    \"\"\"Compute custom dissimilarity score.\"\"\"\n",
        "    cos_sim = cosine_similarity(vec1, vec2)\n",
        "    euc_dist = euclidean_distance(vec1, vec2)\n",
        "    return 1 - cos_sim + alpha * euc_dist\n",
        "\n",
        "# Metric computation function\n",
        "def compute_metric(vec1, vec2, metric='cosine'):\n",
        "    \"\"\"Compute similarity/dissimilarity based on the selected metric.\"\"\"\n",
        "    if metric == 'cosine':\n",
        "        return cosine_similarity(vec1, vec2)\n",
        "    elif metric == 'euclidean':\n",
        "        return euclidean_distance(vec1, vec2)\n",
        "    elif metric == 'custom':\n",
        "        return custom_dissimilarity(vec1, vec2)\n",
        "    else:\n",
        "        raise ValueError(\"Invalid metric. Choose 'cosine', 'euclidean', or 'custom'.\")\n",
        "\n",
        "# Ranking function\n",
        "def rank_words(target_word, words, word_vectors, metric='cosine'):\n",
        "    \"\"\"Rank words based on their similarity/dissimilarity to the target word.\"\"\"\n",
        "    target_vec = word_vectors[target_word]\n",
        "    rankings = []\n",
        "\n",
        "    for word in words:\n",
        "        if word in word_vectors:\n",
        "            vec = word_vectors[word]\n",
        "            score = compute_metric(target_vec, vec, metric)\n",
        "            rankings.append((word, score))\n",
        "\n",
        "    # Sort by score (ascending for dissimilarity, descending for similarity)\n",
        "    if metric == 'euclidean' or metric == 'custom':\n",
        "        rankings.sort(key=lambda x: x[1])  # Ascending for dissimilarity\n",
        "    else:\n",
        "        rankings.sort(key=lambda x: -x[1])  # Descending for similarity\n",
        "\n",
        "    return rankings\n",
        "\n",
        "# Plot rankings\n",
        "def plot_rankings(target_word, words, word_vectors, metric='cosine'):\n",
        "    \"\"\"Plot the ranking of words based on their similarity/dissimilarity to the target word.\"\"\"\n",
        "    rankings = rank_words(target_word, words, word_vectors, metric)\n",
        "    words_ranked = [word for word, _ in rankings]\n",
        "    scores = [score for _, score in rankings]\n",
        "\n",
        "    plt.figure(figsize=(10, 6))\n",
        "    plt.barh(words_ranked, scores, color='skyblue')\n",
        "    plt.xlabel('Score')\n",
        "    plt.title(f\"Ranking of Words by {metric.capitalize()} to '{target_word}'\")\n",
        "    plt.gca().invert_yaxis()  # Highest score at the top\n",
        "    plt.show()\n",
        "\n",
        "# Heatmap function\n",
        "def create_heatmap(word_pairs, word_vectors, metric='cosine'):\n",
        "    \"\"\"Create a heatmap to compare similarity/dissimilarity scores for multiple word pairs.\"\"\"\n",
        "    scores = []\n",
        "    for word1, word2 in word_pairs:\n",
        "        if word1 in word_vectors and word2 in word_vectors:\n",
        "            vec1 = word_vectors[word1]\n",
        "            vec2 = word_vectors[word2]\n",
        "            score = compute_metric(vec1, vec2, metric)\n",
        "            scores.append(score)\n",
        "        else:\n",
        "            scores.append(np.nan)  # Handle OOV words\n",
        "\n",
        "    # Reshape scores into a square matrix\n",
        "    #n = int(np.sqrt(len(word_pairs)))\n",
        "    #n = int(np.ceil(np.sqrt(len(word_pairs))))\n",
        "    #scores_matrix = np.array(scores).reshape(n, n)\n",
        "    # Pad with NaN values to make `scores` length a perfect square\n",
        "    num_elements = len(scores)\n",
        "    n = int(np.ceil(np.sqrt(num_elements)))\n",
        "\n",
        "    # Calculate required padding\n",
        "    padding_size = n * n - num_elements\n",
        "    scores_padded = np.pad(scores, (0, padding_size), mode='constant', constant_values=np.nan)\n",
        "\n",
        "    # Reshape the padded scores into a square matrix\n",
        "    scores_matrix = np.array(scores_padded).reshape(n, n)\n",
        "\n",
        "    # Plot heatmap\n",
        "    plt.figure(figsize=(8, 6))\n",
        "    sns.heatmap(scores_matrix, annot=True, fmt=\".2f\", cmap=\"YlOrRd\",\n",
        "                xticklabels=[f\"Word {i+1}\" for i in range(n)],\n",
        "                yticklabels=[f\"Word {i+1}\" for i in range(n)])\n",
        "    plt.title(f\"Heatmap of {metric.capitalize()} Scores\")\n",
        "    plt.show()\n",
        "\n",
        "# Main program\n",
        "if __name__ == \"__main__\":\n",
        "    # Load embeddings\n",
        "    #word_vectors = load_glove_embeddings()\n",
        "\n",
        "    # Example: Ranking of words\n",
        "    target_word = \"cat\"\n",
        "    words = [\"dog\", \"lion\", \"table\", \"tiger\", \"car\", \"mouse\"]\n",
        "    plot_rankings(target_word, words, word_vectors, metric='cosine') #Based on similarity\n",
        "\n",
        "    # Example: Heatmap for word pairs\n",
        "    word_pairs = [(\"cat\", \"dog\"), (\"cat\", \"lion\"), (\"cat\", \"table\"),\n",
        "                  (\"dog\", \"lion\"), (\"dog\", \"table\"), (\"lion\", \"table\")]\n",
        "    create_heatmap(word_pairs, word_vectors, metric='cosine') #Similarity\n",
        "    create_heatmap(word_pairs, word_vectors, metric='custom') #Dissimilarity"
      ]
    }
  ],
  "metadata": {
    "kernelspec": {
      "display_name": "RNN",
      "language": "python",
      "name": "python3"
    },
    "language_info": {
      "codemirror_mode": {
        "name": "ipython",
        "version": 3
      },
      "file_extension": ".py",
      "mimetype": "text/x-python",
      "name": "python",
      "nbconvert_exporter": "python",
      "pygments_lexer": "ipython3",
      "version": "3.11.11"
    },
    "colab": {
      "provenance": [],
      "include_colab_link": true
    }
  },
  "nbformat": 4,
  "nbformat_minor": 0
}